{
 "cells": [
  {
   "cell_type": "code",
   "execution_count": null,
   "id": "1b1de5f3",
   "metadata": {},
   "outputs": [],
   "source": [
    "import random \n",
    "import pprint\n",
    "import config\n",
    "import spotipy\n",
    "import pandas as pd\n",
    "import json\n",
    "from spotipy.oauth2 import SpotifyClientCredentials\n",
    "from IPython.display import IFrame\n",
    "\n",
    "\n",
    "#Initialize SpotiPy with user credentials\n",
    "sp = spotipy.Spotify(auth_manager=SpotifyClientCredentials(client_id= config.client_id,\n",
    "                                                           client_secret= config.client_secret))\n"
   ]
  },
  {
   "cell_type": "code",
   "execution_count": null,
   "id": "1465be0b",
   "metadata": {},
   "outputs": [],
   "source": [
    "def get_playlist_tracks(username, playlist_id):\n",
    "    results = sp.user_playlist_tracks(username,playlist_id,market=\"GB\")\n",
    "    tracks = results['items']\n",
    "    while results['next']:\n",
    "        results = sp.next(results)\n",
    "        tracks.extend(results['items'])\n",
    "    return tracks\n",
    "\n",
    "\n",
    "### this is to extend the playlist with more than 100 songs"
   ]
  },
  {
   "cell_type": "code",
   "execution_count": null,
   "id": "2888997e",
   "metadata": {},
   "outputs": [],
   "source": [
    "# PLAYLIST 1\n",
    "#### 1 \n",
    "#'all out 80s 90s hits' playlist\n",
    "# 141guhSLUNzE58MqlIC4zT  \n",
    "\n",
    "rock = get_playlist_tracks('tsouwer','141guhSLUNzE58MqlIC4zT')"
   ]
  },
  {
   "cell_type": "code",
   "execution_count": null,
   "id": "02b0413a",
   "metadata": {},
   "outputs": [],
   "source": [
    "#### 2 \n",
    "### append the songs to the playlist \n",
    "\n",
    "rock_ids = []\n",
    "for i in rock:\n",
    "    rock_ids.append(i['track']['id'])"
   ]
  },
  {
   "cell_type": "code",
   "execution_count": null,
   "id": "d486f586",
   "metadata": {},
   "outputs": [],
   "source": [
    "len(rock_ids)"
   ]
  },
  {
   "cell_type": "code",
   "execution_count": null,
   "id": "243b1e25",
   "metadata": {},
   "outputs": [],
   "source": [
    "#### 3 \n",
    "#### append the audio features of the songs ids \n",
    "\n",
    "chunk_size = 100\n",
    "rock_ids_chopped = [rock_ids[i:i+chunk_size] for i in range (0, len(rock_ids), 100)]\n",
    "audio_list = []\n",
    "for i in rock_ids_chopped:\n",
    "    try:\n",
    "        audio_list.extend(sp.audio_features(i))\n",
    "    except:\n",
    "        pass"
   ]
  },
  {
   "cell_type": "code",
   "execution_count": null,
   "id": "33048322",
   "metadata": {},
   "outputs": [],
   "source": [
    "#### 4 \n",
    "# dataframe with the audio features\n",
    "\n",
    "rock_playlist_df = pd.DataFrame(audio_list)    \n",
    "rock_playlist_df"
   ]
  },
  {
   "cell_type": "code",
   "execution_count": null,
   "id": "ef9b81f8",
   "metadata": {},
   "outputs": [],
   "source": [
    "#### 5\n",
    "#rock_playlist_df.to_csv('rock_playlist.csv')"
   ]
  },
  {
   "cell_type": "code",
   "execution_count": null,
   "id": "a5d675c0",
   "metadata": {},
   "outputs": [],
   "source": [
    "#######################################################################################################################"
   ]
  },
  {
   "cell_type": "code",
   "execution_count": null,
   "id": "5cef301a",
   "metadata": {},
   "outputs": [],
   "source": [
    "# PLAYLIST 2\n",
    "\n",
    "#### 1 \n",
    "# Charts 2023\n",
    "# 6J6voWW0vwz3TYuHaL88f6  \n",
    "\n",
    "charts2023 = get_playlist_tracks('teage03','6J6voWW0vwz3TYuHaL88f6')"
   ]
  },
  {
   "cell_type": "code",
   "execution_count": null,
   "id": "a5d6d553",
   "metadata": {},
   "outputs": [],
   "source": [
    "#### 2 \n",
    "### append the songs to the playlist \n",
    "charts_ids = []\n",
    "for i in charts2023:\n",
    "    charts_ids.append(i['track']['id'])"
   ]
  },
  {
   "cell_type": "code",
   "execution_count": null,
   "id": "539c6545",
   "metadata": {},
   "outputs": [],
   "source": [
    "#### 3 \n",
    "#### append the audio features of the songs ids \n",
    "\n",
    "chunk_size = 100\n",
    "charts_ids_chopped = [charts_ids[i:i+chunk_size] for i in range (0, len(charts_ids), 100)]\n",
    "charts_audio_list = []\n",
    "for i in charts_ids_chopped:\n",
    "    try:\n",
    "        charts_audio_list.extend(sp.audio_features(i))\n",
    "    except:\n",
    "        pass"
   ]
  },
  {
   "cell_type": "code",
   "execution_count": null,
   "id": "80c22d37",
   "metadata": {},
   "outputs": [],
   "source": [
    "#### 4 \n",
    "# dataframe with the audio features\n",
    "\n",
    "charts_2023_df = pd.DataFrame(charts_audio_list)    \n",
    "charts_2023_df"
   ]
  },
  {
   "cell_type": "code",
   "execution_count": null,
   "id": "d485a620",
   "metadata": {},
   "outputs": [],
   "source": [
    "#### 5\n",
    "#charts_2023_df.to_csv('charts_2023.csv')"
   ]
  },
  {
   "cell_type": "code",
   "execution_count": null,
   "id": "e0abc14c",
   "metadata": {},
   "outputs": [],
   "source": [
    "###################################################################################################################"
   ]
  },
  {
   "cell_type": "code",
   "execution_count": null,
   "id": "46f8ecd1",
   "metadata": {},
   "outputs": [],
   "source": [
    "# PLAYLIST 3\n",
    "\n",
    "#### 1 \n",
    "# 100 top hits\n",
    "# 6u8wHliN7xNZKXQCG1I2RE\n",
    "\n",
    "tophits = get_playlist_tracks('fabs**','6u8wHliN7xNZKXQCG1I2RE')"
   ]
  },
  {
   "cell_type": "code",
   "execution_count": null,
   "id": "934904e3",
   "metadata": {},
   "outputs": [],
   "source": [
    "#### 2 \n",
    "### append the songs to the playlist \n",
    "\n",
    "tophits_ids = []\n",
    "for i in tophits:\n",
    "    tophits_ids.append(i['track']['id'])"
   ]
  },
  {
   "cell_type": "code",
   "execution_count": null,
   "id": "1c9de781",
   "metadata": {},
   "outputs": [],
   "source": [
    "len(tophits_ids)"
   ]
  },
  {
   "cell_type": "code",
   "execution_count": null,
   "id": "59f90190",
   "metadata": {},
   "outputs": [],
   "source": [
    "#### 3 \n",
    "#### append the audio features of the songs ids \n",
    "\n",
    "chunk_size = 100\n",
    "tophits_ids_chopped = [tophits_ids[i:i+chunk_size] for i in range (0, len(tophits_ids), 100)]\n",
    "tophits_audio_list = []\n",
    "for i in tophits_ids_chopped:\n",
    "    try:\n",
    "        tophits_audio_list.extend(sp.audio_features(i))\n",
    "    except:\n",
    "        pass"
   ]
  },
  {
   "cell_type": "code",
   "execution_count": null,
   "id": "59dc588e",
   "metadata": {},
   "outputs": [],
   "source": [
    "#### 4 \n",
    "# dataframe with the audio features\n",
    "\n",
    "tophits_df = pd.DataFrame(tophits_audio_list)    \n",
    "tophits_df"
   ]
  },
  {
   "cell_type": "code",
   "execution_count": null,
   "id": "9f268e6f",
   "metadata": {},
   "outputs": [],
   "source": [
    "#### 5\n",
    "#tophits_df.to_csv('tophits.csv')"
   ]
  },
  {
   "cell_type": "code",
   "execution_count": null,
   "id": "57ce49b8",
   "metadata": {},
   "outputs": [],
   "source": [
    "###############################################################################################"
   ]
  },
  {
   "cell_type": "code",
   "execution_count": null,
   "id": "d642edba",
   "metadata": {},
   "outputs": [],
   "source": [
    "# PLAYLIST 4\n",
    "\n",
    "#### 1 \n",
    "# 100 pop2023\n",
    "# 1EVE9kOZ2i4171hNdvWVhU\n",
    "\n",
    "pop2023 = get_playlist_tracks('redmusiccompany','1EVE9kOZ2i4171hNdvWVhU')"
   ]
  },
  {
   "cell_type": "code",
   "execution_count": null,
   "id": "78de0fb9",
   "metadata": {},
   "outputs": [],
   "source": [
    "#### 2 \n",
    "### append the songs to the playlist \n",
    "\n",
    "pop2023_ids = []\n",
    "for i in pop2023:\n",
    "    pop2023_ids.append(i['track']['id'])"
   ]
  },
  {
   "cell_type": "code",
   "execution_count": null,
   "id": "0f07927c",
   "metadata": {},
   "outputs": [],
   "source": [
    "len(pop2023)"
   ]
  },
  {
   "cell_type": "code",
   "execution_count": null,
   "id": "55dee6f9",
   "metadata": {},
   "outputs": [],
   "source": [
    "#### 3 \n",
    "#### append the audio features of the songs ids \n",
    "\n",
    "pop2023_audio_list = []                      \n",
    "for songs_id in pop2023_ids:\n",
    "    pop2023_audio_list.append(sp.audio_features(song_id)[0])\n",
    "pop2023_audio_list\n",
    "\n",
    "\n",
    "########################################################################\n",
    "chunk_size = 100\n",
    "tophits_ids_chopped = [tophits_ids[i:i+chunk_size] for i in range (0, len(tophits_ids), 100)]\n",
    "pop2023_audio_list = []\n",
    "for i in tophits_ids_chopped:\n",
    "    try:\n",
    "        tophits_audio_list.extend(sp.audio_features(i))\n",
    "    except:\n",
    "        pass"
   ]
  },
  {
   "cell_type": "code",
   "execution_count": null,
   "id": "1616e888",
   "metadata": {},
   "outputs": [],
   "source": [
    "#### 4 \n",
    "# dataframe with the audio features\n",
    "\n",
    "pop2023_df = pd.DataFrame(pop2023_audio_list)    \n",
    "pop2023_df"
   ]
  },
  {
   "cell_type": "code",
   "execution_count": null,
   "id": "a3b03e01",
   "metadata": {},
   "outputs": [],
   "source": [
    "#### 5\n",
    "#pop2023_df.to_csv('pop2023.csv')"
   ]
  },
  {
   "cell_type": "code",
   "execution_count": null,
   "id": "fb9c3527",
   "metadata": {},
   "outputs": [],
   "source": [
    "#######################################################################################################################"
   ]
  },
  {
   "cell_type": "code",
   "execution_count": null,
   "id": "280b1dad",
   "metadata": {},
   "outputs": [],
   "source": [
    "# PLAYLIST 5\n",
    "\n",
    "#### 1 \n",
    "# tiktok\n",
    "# 6wP9zV52z0vv8MOsJ5xGYe\n",
    "\n",
    "tiktok = get_playlist_tracks('xp9jsk69gzaha467ddmmxg05b','6wP9zV52z0vv8MOsJ5xGYe')"
   ]
  },
  {
   "cell_type": "code",
   "execution_count": null,
   "id": "16bca59d",
   "metadata": {},
   "outputs": [],
   "source": [
    "#### 2 \n",
    "### append the songs to the playlist \n",
    "\n",
    "tiktok_ids = []\n",
    "for i in tiktok:\n",
    "    tiktok_ids.append(i['track']['id'])"
   ]
  },
  {
   "cell_type": "code",
   "execution_count": null,
   "id": "b17209bd",
   "metadata": {},
   "outputs": [],
   "source": [
    "len(tiktok_ids)"
   ]
  },
  {
   "cell_type": "code",
   "execution_count": null,
   "id": "debe4f60",
   "metadata": {},
   "outputs": [],
   "source": [
    "#### 3 \n",
    "#### append the audio features of the songs ids \n",
    "\n",
    "tiktok_audio_list = []                      \n",
    "for songs_id in tiktok_ids:\n",
    "    tiktok_audio_list.append(sp.audio_features(song_id)[0])\n",
    "tiktok_audio_list"
   ]
  },
  {
   "cell_type": "code",
   "execution_count": null,
   "id": "9b3a89a4",
   "metadata": {},
   "outputs": [],
   "source": [
    "#### 4 \n",
    "# dataframe with the audio features\n",
    "\n",
    "tiktok_df = pd.DataFrame(tiktok_audio_list)    \n",
    "tiktok_df"
   ]
  },
  {
   "cell_type": "code",
   "execution_count": null,
   "id": "3f89d147",
   "metadata": {},
   "outputs": [],
   "source": [
    "#### 5\n",
    "#tiktok_df.to_csv('tiktok.csv')"
   ]
  },
  {
   "cell_type": "code",
   "execution_count": null,
   "id": "e11e2b74",
   "metadata": {},
   "outputs": [],
   "source": [
    "#################################################################################################################"
   ]
  },
  {
   "cell_type": "code",
   "execution_count": null,
   "id": "a39af419",
   "metadata": {},
   "outputs": [],
   "source": [
    "# PLAYLIST 6\n",
    "\n",
    "#### 1 \n",
    "# party hits\n",
    "# 06S64oWn7uGnfGrwjh5IWb\n",
    "\n",
    "partyhits = get_playlist_tracks('sanik007','06S64oWn7uGnfGrwjh5IWb')"
   ]
  },
  {
   "cell_type": "code",
   "execution_count": null,
   "id": "5509d0bf",
   "metadata": {},
   "outputs": [],
   "source": [
    "#### 2 \n",
    "### append the songs to the playlist \n",
    "\n",
    "partyhits_ids = []\n",
    "for i in partyhits:\n",
    "    partyhits_ids.append(i['track']['id'])"
   ]
  },
  {
   "cell_type": "code",
   "execution_count": null,
   "id": "6859d646",
   "metadata": {},
   "outputs": [],
   "source": [
    "#### 3 \n",
    "#### append the audio features of the songs ids \n",
    "\n",
    "partyhits_audio_list = []                      \n",
    "for songs_id in partyhits_ids:\n",
    "    partyhits_audio_list.append(sp.audio_features(song_id)[0])\n",
    "partyhits_audio_list"
   ]
  },
  {
   "cell_type": "code",
   "execution_count": null,
   "id": "b8cd1827",
   "metadata": {},
   "outputs": [],
   "source": [
    "#### 4 \n",
    "# dataframe with the audio features\n",
    "\n",
    "partyhits_df = pd.DataFrame(partyhits_audio_list)    \n",
    "partyhits_df"
   ]
  },
  {
   "cell_type": "code",
   "execution_count": null,
   "id": "58537265",
   "metadata": {},
   "outputs": [],
   "source": [
    "#### 5\n",
    "#partyhits_df.to_csv('partyhits.csv')"
   ]
  },
  {
   "cell_type": "code",
   "execution_count": null,
   "id": "53a56fdc",
   "metadata": {},
   "outputs": [],
   "source": [
    "#############################################################################################################################"
   ]
  },
  {
   "cell_type": "code",
   "execution_count": null,
   "id": "4a8e0fc8",
   "metadata": {},
   "outputs": [],
   "source": [
    "# PLAYLIST 7\n",
    "\n",
    "#### 1 \n",
    "# popular\n",
    "# 4zQFpVr4fC99jlH7ygEL1i\n",
    "\n",
    "popular = get_playlist_tracks('zaydenschaffer','4zQFpVr4fC99jlH7ygEL1i')"
   ]
  },
  {
   "cell_type": "code",
   "execution_count": null,
   "id": "777e023b",
   "metadata": {},
   "outputs": [],
   "source": [
    "#### 2 \n",
    "### append the songs to the playlist \n",
    "\n",
    "popular_ids = []\n",
    "for i in popular:\n",
    "    popular_ids.append(i['track']['id'])"
   ]
  },
  {
   "cell_type": "code",
   "execution_count": null,
   "id": "2f6231af",
   "metadata": {},
   "outputs": [],
   "source": [
    "len(popular)"
   ]
  },
  {
   "cell_type": "code",
   "execution_count": null,
   "id": "775caa62",
   "metadata": {},
   "outputs": [],
   "source": [
    "#### 3 \n",
    "#### append the audio features of the songs ids chunk_size = 100\n",
    "\n",
    "popular_ids_chopped = [popular_ids[i:i+chunk_size] for i in range (0, len(popular_ids), 100)]\n",
    "popular_audio_list = []\n",
    "for i in popular_ids_chopped:\n",
    "    try:\n",
    "        popular_audio_list.extend(sp.audio_features(i))\n",
    "    except:\n",
    "        pass"
   ]
  },
  {
   "cell_type": "code",
   "execution_count": null,
   "id": "ca346a4b",
   "metadata": {},
   "outputs": [],
   "source": [
    "#### 4 \n",
    "# dataframe with the audio features\n",
    "\n",
    "popular_df = pd.DataFrame(popular_audio_list)    \n",
    "popular_df"
   ]
  },
  {
   "cell_type": "code",
   "execution_count": null,
   "id": "06223bb3",
   "metadata": {},
   "outputs": [],
   "source": [
    "#### 5\n",
    "#popular_df.to_csv('popular.csv')"
   ]
  },
  {
   "cell_type": "code",
   "execution_count": null,
   "id": "ff210fdc",
   "metadata": {},
   "outputs": [],
   "source": [
    "###################################################################################################"
   ]
  },
  {
   "cell_type": "code",
   "execution_count": null,
   "id": "bfd2eb3e",
   "metadata": {},
   "outputs": [],
   "source": [
    "# PLAYLIST 8\n",
    "\n",
    "#### 1 \n",
    "# big\n",
    "# 6CJgzIG2MWb9k9lBUe3kAx\n",
    "\n",
    "big = get_playlist_tracks('alexzhu1112','6CJgzIG2MWb9k9lBUe3kAx')"
   ]
  },
  {
   "cell_type": "code",
   "execution_count": null,
   "id": "964e3289",
   "metadata": {},
   "outputs": [],
   "source": [
    "#### 2 \n",
    "### append the songs to the playlist \n",
    "\n",
    "big_ids = []\n",
    "for i in big:\n",
    "    big_ids.append(i['track']['id'])"
   ]
  },
  {
   "cell_type": "code",
   "execution_count": null,
   "id": "dd21c207",
   "metadata": {},
   "outputs": [],
   "source": [
    "#### 3 \n",
    "#### append the audio features of the songs ids \n",
    "\n",
    "chunk_size = 100\n",
    "big_ids_chopped = [big_ids[i:i+chunk_size] for i in range (0, len(big_ids), 100)]\n",
    "big_audio_list = []\n",
    "for i in big_ids_chopped:\n",
    "    try:\n",
    "        big_audio_list.extend(sp.audio_features(i))\n",
    "    except:\n",
    "        pass"
   ]
  },
  {
   "cell_type": "code",
   "execution_count": null,
   "id": "254f9d6d",
   "metadata": {},
   "outputs": [],
   "source": [
    "len(big_audio_list)"
   ]
  },
  {
   "cell_type": "code",
   "execution_count": null,
   "id": "efc78263",
   "metadata": {},
   "outputs": [],
   "source": [
    "#### 4 \n",
    "# dataframe with the audio features\n",
    "\n",
    "big_df = pd.DataFrame(big_audio_list)    \n",
    "big_df"
   ]
  },
  {
   "cell_type": "code",
   "execution_count": null,
   "id": "137bf8ea",
   "metadata": {},
   "outputs": [],
   "source": [
    "#### 5\n",
    "#big_df.to_csv('big.csv')"
   ]
  },
  {
   "cell_type": "code",
   "execution_count": null,
   "id": "6a3c3c43",
   "metadata": {},
   "outputs": [],
   "source": [
    "##########################################################################################################"
   ]
  },
  {
   "cell_type": "code",
   "execution_count": null,
   "id": "68ce444b",
   "metadata": {},
   "outputs": [],
   "source": [
    "# PLAYLIST 9\n",
    "\n",
    "#### 1 \n",
    "# big 1\n",
    "# 4uoPRLaoEtvHXuoTuIM387\n",
    "\n",
    "big1 = get_playlist_tracks('jake_sinclair','4uoPRLaoEtvHXuoTuIM387')"
   ]
  },
  {
   "cell_type": "code",
   "execution_count": null,
   "id": "52066687",
   "metadata": {},
   "outputs": [],
   "source": [
    "#### 2 \n",
    "### append the songs to the playlist \n",
    "\n",
    "big1_ids = []\n",
    "for i in big1:\n",
    "    big1_ids.append(i['track']['id'])"
   ]
  },
  {
   "cell_type": "code",
   "execution_count": null,
   "id": "974932fb",
   "metadata": {},
   "outputs": [],
   "source": [
    "#### 3 \n",
    "#### append the audio features of the songs ids \n",
    "\n",
    "chunk_size = 100\n",
    "big1_ids_chopped = [big1_ids[i:i+chunk_size] for i in range (0, len(big1_ids), 100)]\n",
    "big1_audio_list = []\n",
    "for i in big1_ids_chopped:\n",
    "    try:\n",
    "        big1_audio_list.extend(sp.audio_features(i))\n",
    "    except:\n",
    "        pass"
   ]
  },
  {
   "cell_type": "code",
   "execution_count": null,
   "id": "7b2ef50e",
   "metadata": {},
   "outputs": [],
   "source": [
    "len(big1_audio_list)"
   ]
  },
  {
   "cell_type": "code",
   "execution_count": null,
   "id": "98aab5a8",
   "metadata": {
    "scrolled": true
   },
   "outputs": [],
   "source": [
    "#### 4 \n",
    "# dataframe with the audio features\n",
    "\n",
    "big1_df = pd.DataFrame(big1_audio_list)    \n",
    "big1_df"
   ]
  },
  {
   "cell_type": "code",
   "execution_count": null,
   "id": "41c48e86",
   "metadata": {},
   "outputs": [],
   "source": [
    "#### 5\n",
    "big1_df.to_csv('big1.csv')"
   ]
  },
  {
   "cell_type": "code",
   "execution_count": null,
   "id": "f25b06ad",
   "metadata": {},
   "outputs": [],
   "source": [
    "#####################################################################################"
   ]
  },
  {
   "cell_type": "code",
   "execution_count": null,
   "id": "63245ab6",
   "metadata": {},
   "outputs": [],
   "source": [
    "# PLAYLIST 10\n",
    "\n",
    "#### 1 \n",
    "# big 2\n",
    "# 3HgmAcjkiNblGYilfIKJtk\n",
    "\n",
    "big2 = get_playlist_tracks('1241219183','3HgmAcjkiNblGYilfIKJtk')"
   ]
  },
  {
   "cell_type": "code",
   "execution_count": null,
   "id": "73dd663b",
   "metadata": {},
   "outputs": [],
   "source": [
    "#### 2 \n",
    "### append the songs to the playlist \n",
    "\n",
    "big2_ids = []\n",
    "for i in big2:\n",
    "    big2_ids.append(i['track']['id'])"
   ]
  },
  {
   "cell_type": "code",
   "execution_count": null,
   "id": "69e8cfbf",
   "metadata": {},
   "outputs": [],
   "source": [
    "#### 3 \n",
    "#### append the audio features of the songs ids \n",
    "\n",
    "chunk_size = 100\n",
    "big2_ids_chopped = [big2_ids[i:i+chunk_size] for i in range (0, len(big2_ids), 100)]\n",
    "big2_audio_list = []\n",
    "for i in big2_ids_chopped:\n",
    "    try:\n",
    "        big2_audio_list.extend(sp.audio_features(i))\n",
    "    except:\n",
    "        pass"
   ]
  },
  {
   "cell_type": "code",
   "execution_count": null,
   "id": "142e2ec7",
   "metadata": {},
   "outputs": [],
   "source": [
    "len(big2_audio_list)"
   ]
  },
  {
   "cell_type": "code",
   "execution_count": null,
   "id": "f8bd4b2a",
   "metadata": {},
   "outputs": [],
   "source": [
    "#### 4 \n",
    "# dataframe with the audio features\n",
    "\n",
    "big2_df = pd.DataFrame(big2_audio_list)    \n",
    "big2_df"
   ]
  },
  {
   "cell_type": "code",
   "execution_count": null,
   "id": "4c12c6da",
   "metadata": {},
   "outputs": [],
   "source": [
    "#### 5\n",
    "big2_df.to_csv('big2.csv')"
   ]
  },
  {
   "cell_type": "code",
   "execution_count": null,
   "id": "012417aa",
   "metadata": {},
   "outputs": [],
   "source": []
  }
 ],
 "metadata": {
  "kernelspec": {
   "display_name": "Python 3 (ipykernel)",
   "language": "python",
   "name": "python3"
  },
  "language_info": {
   "codemirror_mode": {
    "name": "ipython",
    "version": 3
   },
   "file_extension": ".py",
   "mimetype": "text/x-python",
   "name": "python",
   "nbconvert_exporter": "python",
   "pygments_lexer": "ipython3",
   "version": "3.11.5"
  }
 },
 "nbformat": 4,
 "nbformat_minor": 5
}
