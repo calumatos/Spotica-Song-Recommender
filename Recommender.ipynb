{
 "cells": [
  {
   "cell_type": "code",
   "execution_count": null,
   "id": "05d51b41",
   "metadata": {},
   "outputs": [],
   "source": [
    "# Steps:\n",
    "\n",
    "## model\n",
    "# drop the columns from the dataframe \n",
    "# scale\n",
    "# we do the clustering\n",
    "# plot \n",
    "# new column with the cluster and the id\n",
    "# csv (to pass in the function)\n",
    "\n",
    "## program creation\n",
    "# 1 is it hot? no\n",
    "# 2 search on spotify for the song\n",
    "# 3 get the id\n",
    "# 4 with the id get the json file with the features\n",
    "# 5 scale/ transform\n",
    "# 6 predict \n",
    "# 7 get the recommendation from the same cluster\n"
   ]
  },
  {
   "cell_type": "code",
   "execution_count": 1,
   "id": "e090a213",
   "metadata": {},
   "outputs": [],
   "source": [
    "from spotipy.oauth2 import SpotifyClientCredentials\n",
    "from IPython.display import IFrame\n",
    "from sklearn.cluster import KMeans\n",
    "from sklearn.metrics import silhouette_score\n",
    "from sklearn.preprocessing import StandardScaler\n",
    "import pandas as pd\n",
    "import spotipy\n",
    "import json\n",
    "import config\n",
    "import pprint\n",
    "import textdistance\n",
    "import random\n",
    "import numpy as np\n",
    "import pickle\n",
    "import matplotlib.pyplot as plt           "
   ]
  },
  {
   "cell_type": "code",
   "execution_count": 2,
   "id": "381b1b5b",
   "metadata": {},
   "outputs": [
    {
     "data": {
      "text/plain": [
       "{'tracks': {'href': 'https://api.spotify.com/v1/search?query=yesterday&type=track&market=GB&offset=0&limit=5',\n",
       "  'items': [{'album': {'album_type': 'album',\n",
       "     'artists': [{'external_urls': {'spotify': 'https://open.spotify.com/artist/3WrFJ7ztbogyGnTHbHJFl2'},\n",
       "       'href': 'https://api.spotify.com/v1/artists/3WrFJ7ztbogyGnTHbHJFl2',\n",
       "       'id': '3WrFJ7ztbogyGnTHbHJFl2',\n",
       "       'name': 'The Beatles',\n",
       "       'type': 'artist',\n",
       "       'uri': 'spotify:artist:3WrFJ7ztbogyGnTHbHJFl2'}],\n",
       "     'external_urls': {'spotify': 'https://open.spotify.com/album/0PT5m6hwPRrpBwIHVnvbFX'},\n",
       "     'href': 'https://api.spotify.com/v1/albums/0PT5m6hwPRrpBwIHVnvbFX',\n",
       "     'id': '0PT5m6hwPRrpBwIHVnvbFX',\n",
       "     'images': [{'height': 640,\n",
       "       'url': 'https://i.scdn.co/image/ab67616d0000b273e3e3b64cea45265469d4cafa',\n",
       "       'width': 640},\n",
       "      {'height': 300,\n",
       "       'url': 'https://i.scdn.co/image/ab67616d00001e02e3e3b64cea45265469d4cafa',\n",
       "       'width': 300},\n",
       "      {'height': 64,\n",
       "       'url': 'https://i.scdn.co/image/ab67616d00004851e3e3b64cea45265469d4cafa',\n",
       "       'width': 64}],\n",
       "     'is_playable': True,\n",
       "     'name': 'Help! (Remastered)',\n",
       "     'release_date': '1965-08-06',\n",
       "     'release_date_precision': 'day',\n",
       "     'total_tracks': 14,\n",
       "     'type': 'album',\n",
       "     'uri': 'spotify:album:0PT5m6hwPRrpBwIHVnvbFX'},\n",
       "    'artists': [{'external_urls': {'spotify': 'https://open.spotify.com/artist/3WrFJ7ztbogyGnTHbHJFl2'},\n",
       "      'href': 'https://api.spotify.com/v1/artists/3WrFJ7ztbogyGnTHbHJFl2',\n",
       "      'id': '3WrFJ7ztbogyGnTHbHJFl2',\n",
       "      'name': 'The Beatles',\n",
       "      'type': 'artist',\n",
       "      'uri': 'spotify:artist:3WrFJ7ztbogyGnTHbHJFl2'}],\n",
       "    'disc_number': 1,\n",
       "    'duration_ms': 125666,\n",
       "    'explicit': False,\n",
       "    'external_ids': {'isrc': 'GBAYE0601477'},\n",
       "    'external_urls': {'spotify': 'https://open.spotify.com/track/3BQHpFgAp4l80e1XslIjNI'},\n",
       "    'href': 'https://api.spotify.com/v1/tracks/3BQHpFgAp4l80e1XslIjNI',\n",
       "    'id': '3BQHpFgAp4l80e1XslIjNI',\n",
       "    'is_local': False,\n",
       "    'is_playable': True,\n",
       "    'name': 'Yesterday - Remastered 2009',\n",
       "    'popularity': 80,\n",
       "    'preview_url': None,\n",
       "    'track_number': 13,\n",
       "    'type': 'track',\n",
       "    'uri': 'spotify:track:3BQHpFgAp4l80e1XslIjNI'},\n",
       "   {'album': {'album_type': 'album',\n",
       "     'artists': [{'external_urls': {'spotify': 'https://open.spotify.com/artist/3WrFJ7ztbogyGnTHbHJFl2'},\n",
       "       'href': 'https://api.spotify.com/v1/artists/3WrFJ7ztbogyGnTHbHJFl2',\n",
       "       'id': '3WrFJ7ztbogyGnTHbHJFl2',\n",
       "       'name': 'The Beatles',\n",
       "       'type': 'artist',\n",
       "       'uri': 'spotify:artist:3WrFJ7ztbogyGnTHbHJFl2'}],\n",
       "     'external_urls': {'spotify': 'https://open.spotify.com/album/39Ti6Be9Ak2d6YbxlQo0Ba'},\n",
       "     'href': 'https://api.spotify.com/v1/albums/39Ti6Be9Ak2d6YbxlQo0Ba',\n",
       "     'id': '39Ti6Be9Ak2d6YbxlQo0Ba',\n",
       "     'images': [{'height': 640,\n",
       "       'url': 'https://i.scdn.co/image/ab67616d0000b2734a4c7445df9b3719a60eb53b',\n",
       "       'width': 640},\n",
       "      {'height': 300,\n",
       "       'url': 'https://i.scdn.co/image/ab67616d00001e024a4c7445df9b3719a60eb53b',\n",
       "       'width': 300},\n",
       "      {'height': 64,\n",
       "       'url': 'https://i.scdn.co/image/ab67616d000048514a4c7445df9b3719a60eb53b',\n",
       "       'width': 64}],\n",
       "     'is_playable': True,\n",
       "     'name': 'The Beatles 1962 – 1966 (2023 Edition)',\n",
       "     'release_date': '2023-11-10',\n",
       "     'release_date_precision': 'day',\n",
       "     'total_tracks': 38,\n",
       "     'type': 'album',\n",
       "     'uri': 'spotify:album:39Ti6Be9Ak2d6YbxlQo0Ba'},\n",
       "    'artists': [{'external_urls': {'spotify': 'https://open.spotify.com/artist/3WrFJ7ztbogyGnTHbHJFl2'},\n",
       "      'href': 'https://api.spotify.com/v1/artists/3WrFJ7ztbogyGnTHbHJFl2',\n",
       "      'id': '3WrFJ7ztbogyGnTHbHJFl2',\n",
       "      'name': 'The Beatles',\n",
       "      'type': 'artist',\n",
       "      'uri': 'spotify:artist:3WrFJ7ztbogyGnTHbHJFl2'}],\n",
       "    'disc_number': 1,\n",
       "    'duration_ms': 124426,\n",
       "    'explicit': False,\n",
       "    'external_ids': {'isrc': 'GBUM72306557'},\n",
       "    'external_urls': {'spotify': 'https://open.spotify.com/track/5u02N7tBZT9ckaUcbcgkZa'},\n",
       "    'href': 'https://api.spotify.com/v1/tracks/5u02N7tBZT9ckaUcbcgkZa',\n",
       "    'id': '5u02N7tBZT9ckaUcbcgkZa',\n",
       "    'is_local': False,\n",
       "    'is_playable': True,\n",
       "    'name': 'Yesterday - 2023 Mix',\n",
       "    'popularity': 54,\n",
       "    'preview_url': None,\n",
       "    'track_number': 19,\n",
       "    'type': 'track',\n",
       "    'uri': 'spotify:track:5u02N7tBZT9ckaUcbcgkZa'},\n",
       "   {'album': {'album_type': 'single',\n",
       "     'artists': [{'external_urls': {'spotify': 'https://open.spotify.com/artist/4oDjh8wNW5vDHyFRrDYC4k'},\n",
       "       'href': 'https://api.spotify.com/v1/artists/4oDjh8wNW5vDHyFRrDYC4k',\n",
       "       'id': '4oDjh8wNW5vDHyFRrDYC4k',\n",
       "       'name': 'Loyle Carner',\n",
       "       'type': 'artist',\n",
       "       'uri': 'spotify:artist:4oDjh8wNW5vDHyFRrDYC4k'}],\n",
       "     'external_urls': {'spotify': 'https://open.spotify.com/album/2VZolgD2RKzb5F4gSNkx1Y'},\n",
       "     'href': 'https://api.spotify.com/v1/albums/2VZolgD2RKzb5F4gSNkx1Y',\n",
       "     'id': '2VZolgD2RKzb5F4gSNkx1Y',\n",
       "     'images': [{'height': 640,\n",
       "       'url': 'https://i.scdn.co/image/ab67616d0000b273a69d88ff44b1927ceb50969d',\n",
       "       'width': 640},\n",
       "      {'height': 300,\n",
       "       'url': 'https://i.scdn.co/image/ab67616d00001e02a69d88ff44b1927ceb50969d',\n",
       "       'width': 300},\n",
       "      {'height': 64,\n",
       "       'url': 'https://i.scdn.co/image/ab67616d00004851a69d88ff44b1927ceb50969d',\n",
       "       'width': 64}],\n",
       "     'is_playable': True,\n",
       "     'name': 'Yesterday',\n",
       "     'release_date': '2020-11-11',\n",
       "     'release_date_precision': 'day',\n",
       "     'total_tracks': 1,\n",
       "     'type': 'album',\n",
       "     'uri': 'spotify:album:2VZolgD2RKzb5F4gSNkx1Y'},\n",
       "    'artists': [{'external_urls': {'spotify': 'https://open.spotify.com/artist/4oDjh8wNW5vDHyFRrDYC4k'},\n",
       "      'href': 'https://api.spotify.com/v1/artists/4oDjh8wNW5vDHyFRrDYC4k',\n",
       "      'id': '4oDjh8wNW5vDHyFRrDYC4k',\n",
       "      'name': 'Loyle Carner',\n",
       "      'type': 'artist',\n",
       "      'uri': 'spotify:artist:4oDjh8wNW5vDHyFRrDYC4k'}],\n",
       "    'disc_number': 1,\n",
       "    'duration_ms': 168654,\n",
       "    'explicit': False,\n",
       "    'external_ids': {'isrc': 'GBUM72005335'},\n",
       "    'external_urls': {'spotify': 'https://open.spotify.com/track/0pRyOQjr12h9RBEFmhbTQc'},\n",
       "    'href': 'https://api.spotify.com/v1/tracks/0pRyOQjr12h9RBEFmhbTQc',\n",
       "    'id': '0pRyOQjr12h9RBEFmhbTQc',\n",
       "    'is_local': False,\n",
       "    'is_playable': True,\n",
       "    'name': 'Yesterday',\n",
       "    'popularity': 59,\n",
       "    'preview_url': None,\n",
       "    'track_number': 1,\n",
       "    'type': 'track',\n",
       "    'uri': 'spotify:track:0pRyOQjr12h9RBEFmhbTQc'},\n",
       "   {'album': {'album_type': 'single',\n",
       "     'artists': [{'external_urls': {'spotify': 'https://open.spotify.com/artist/6s3XaJkcT7464G4oII9V41'},\n",
       "       'href': 'https://api.spotify.com/v1/artists/6s3XaJkcT7464G4oII9V41',\n",
       "       'id': '6s3XaJkcT7464G4oII9V41',\n",
       "       'name': 'Caleb Gordon',\n",
       "       'type': 'artist',\n",
       "       'uri': 'spotify:artist:6s3XaJkcT7464G4oII9V41'}],\n",
       "     'external_urls': {'spotify': 'https://open.spotify.com/album/7a8KVIWKBpu7f8wTG28h2z'},\n",
       "     'href': 'https://api.spotify.com/v1/albums/7a8KVIWKBpu7f8wTG28h2z',\n",
       "     'id': '7a8KVIWKBpu7f8wTG28h2z',\n",
       "     'images': [{'height': 640,\n",
       "       'url': 'https://i.scdn.co/image/ab67616d0000b2739ab235be6e5df944f2bc674b',\n",
       "       'width': 640},\n",
       "      {'height': 300,\n",
       "       'url': 'https://i.scdn.co/image/ab67616d00001e029ab235be6e5df944f2bc674b',\n",
       "       'width': 300},\n",
       "      {'height': 64,\n",
       "       'url': 'https://i.scdn.co/image/ab67616d000048519ab235be6e5df944f2bc674b',\n",
       "       'width': 64}],\n",
       "     'is_playable': True,\n",
       "     'name': 'Yesterday Is Gone',\n",
       "     'release_date': '2023-08-06',\n",
       "     'release_date_precision': 'day',\n",
       "     'total_tracks': 1,\n",
       "     'type': 'album',\n",
       "     'uri': 'spotify:album:7a8KVIWKBpu7f8wTG28h2z'},\n",
       "    'artists': [{'external_urls': {'spotify': 'https://open.spotify.com/artist/6s3XaJkcT7464G4oII9V41'},\n",
       "      'href': 'https://api.spotify.com/v1/artists/6s3XaJkcT7464G4oII9V41',\n",
       "      'id': '6s3XaJkcT7464G4oII9V41',\n",
       "      'name': 'Caleb Gordon',\n",
       "      'type': 'artist',\n",
       "      'uri': 'spotify:artist:6s3XaJkcT7464G4oII9V41'}],\n",
       "    'disc_number': 1,\n",
       "    'duration_ms': 138359,\n",
       "    'explicit': False,\n",
       "    'external_ids': {'isrc': 'TCAHG2388589'},\n",
       "    'external_urls': {'spotify': 'https://open.spotify.com/track/42SsV7gqcLOiCjYphyaOj2'},\n",
       "    'href': 'https://api.spotify.com/v1/tracks/42SsV7gqcLOiCjYphyaOj2',\n",
       "    'id': '42SsV7gqcLOiCjYphyaOj2',\n",
       "    'is_local': False,\n",
       "    'is_playable': True,\n",
       "    'name': 'Yesterday Is Gone',\n",
       "    'popularity': 62,\n",
       "    'preview_url': 'https://p.scdn.co/mp3-preview/c245b30f82d9ca7b1d8b003c48132429a0334465?cid=82dcc468d2c54dd3969e8645f0e3864d',\n",
       "    'track_number': 1,\n",
       "    'type': 'track',\n",
       "    'uri': 'spotify:track:42SsV7gqcLOiCjYphyaOj2'},\n",
       "   {'album': {'album_type': 'album',\n",
       "     'artists': [{'external_urls': {'spotify': 'https://open.spotify.com/artist/3hJv5p2HwekJysNB2NDnEC'},\n",
       "       'href': 'https://api.spotify.com/v1/artists/3hJv5p2HwekJysNB2NDnEC',\n",
       "       'id': '3hJv5p2HwekJysNB2NDnEC',\n",
       "       'name': 'André Rieu',\n",
       "       'type': 'artist',\n",
       "       'uri': 'spotify:artist:3hJv5p2HwekJysNB2NDnEC'}],\n",
       "     'external_urls': {'spotify': 'https://open.spotify.com/album/7iLCy4gF5DnWL21xtBulSj'},\n",
       "     'href': 'https://api.spotify.com/v1/albums/7iLCy4gF5DnWL21xtBulSj',\n",
       "     'id': '7iLCy4gF5DnWL21xtBulSj',\n",
       "     'images': [{'height': 640,\n",
       "       'url': 'https://i.scdn.co/image/ab67616d0000b273fc7910166b1ec18bb8d20260',\n",
       "       'width': 640},\n",
       "      {'height': 300,\n",
       "       'url': 'https://i.scdn.co/image/ab67616d00001e02fc7910166b1ec18bb8d20260',\n",
       "       'width': 300},\n",
       "      {'height': 64,\n",
       "       'url': 'https://i.scdn.co/image/ab67616d00004851fc7910166b1ec18bb8d20260',\n",
       "       'width': 64}],\n",
       "     'is_playable': True,\n",
       "     'name': 'Music Of The Night',\n",
       "     'release_date': '2013-01-01',\n",
       "     'release_date_precision': 'day',\n",
       "     'total_tracks': 21,\n",
       "     'type': 'album',\n",
       "     'uri': 'spotify:album:7iLCy4gF5DnWL21xtBulSj'},\n",
       "    'artists': [{'external_urls': {'spotify': 'https://open.spotify.com/artist/3hJv5p2HwekJysNB2NDnEC'},\n",
       "      'href': 'https://api.spotify.com/v1/artists/3hJv5p2HwekJysNB2NDnEC',\n",
       "      'id': '3hJv5p2HwekJysNB2NDnEC',\n",
       "      'name': 'André Rieu',\n",
       "      'type': 'artist',\n",
       "      'uri': 'spotify:artist:3hJv5p2HwekJysNB2NDnEC'}],\n",
       "    'disc_number': 1,\n",
       "    'duration_ms': 204173,\n",
       "    'explicit': False,\n",
       "    'external_ids': {'isrc': 'DEUM71303457'},\n",
       "    'external_urls': {'spotify': 'https://open.spotify.com/track/0GsSDS0x97KYjChu7pG8zX'},\n",
       "    'href': 'https://api.spotify.com/v1/tracks/0GsSDS0x97KYjChu7pG8zX',\n",
       "    'id': '0GsSDS0x97KYjChu7pG8zX',\n",
       "    'is_local': False,\n",
       "    'is_playable': True,\n",
       "    'name': 'Yesterday - Instrumental',\n",
       "    'popularity': 32,\n",
       "    'preview_url': None,\n",
       "    'track_number': 1,\n",
       "    'type': 'track',\n",
       "    'uri': 'spotify:track:0GsSDS0x97KYjChu7pG8zX'}],\n",
       "  'limit': 5,\n",
       "  'next': 'https://api.spotify.com/v1/search?query=yesterday&type=track&market=GB&offset=5&limit=5',\n",
       "  'offset': 0,\n",
       "  'previous': None,\n",
       "  'total': 868}}"
      ]
     },
     "execution_count": 2,
     "metadata": {},
     "output_type": "execute_result"
    }
   ],
   "source": [
    "### ELSE PART:\n",
    "\n",
    "import spotipy\n",
    "import pandas as pd\n",
    "import json\n",
    "from spotipy.oauth2 import SpotifyClientCredentials\n",
    "\n",
    "\n",
    "#Initialize SpotiPy with user credentials\n",
    "sp = spotipy.Spotify(auth_manager=SpotifyClientCredentials(client_id= config.client_id,\n",
    "                                                           client_secret= config.client_secret))\n",
    "\n",
    "user_input = 'yesterday'\n",
    "\n",
    "results = sp.search(q=user_input,limit=5,market=\"GB\") ### to query the name of the song \n",
    "results"
   ]
  },
  {
   "cell_type": "code",
   "execution_count": 3,
   "id": "a83cf029",
   "metadata": {},
   "outputs": [
    {
     "name": "stdout",
     "output_type": "stream",
     "text": [
      "'3BQHpFgAp4l80e1XslIjNI'\n"
     ]
    }
   ],
   "source": [
    "pprint.pprint(results['tracks']['items'][0]['id'])"
   ]
  },
  {
   "cell_type": "code",
   "execution_count": 4,
   "id": "e603c578",
   "metadata": {},
   "outputs": [
    {
     "data": {
      "text/plain": [
       "'Yesterday - Remastered 2009'"
      ]
     },
     "execution_count": 4,
     "metadata": {},
     "output_type": "execute_result"
    }
   ],
   "source": [
    "results[\"tracks\"][\"items\"][0][\"name\"] # Track name"
   ]
  },
  {
   "cell_type": "code",
   "execution_count": 5,
   "id": "a386726f",
   "metadata": {},
   "outputs": [
    {
     "data": {
      "text/plain": [
       "{'danceability': 0.332,\n",
       " 'energy': 0.179,\n",
       " 'key': 5,\n",
       " 'loudness': -11.83,\n",
       " 'mode': 1,\n",
       " 'speechiness': 0.0326,\n",
       " 'acousticness': 0.879,\n",
       " 'instrumentalness': 0,\n",
       " 'liveness': 0.0886,\n",
       " 'valence': 0.315,\n",
       " 'tempo': 96.529,\n",
       " 'type': 'audio_features',\n",
       " 'id': '3BQHpFgAp4l80e1XslIjNI',\n",
       " 'uri': 'spotify:track:3BQHpFgAp4l80e1XslIjNI',\n",
       " 'track_href': 'https://api.spotify.com/v1/tracks/3BQHpFgAp4l80e1XslIjNI',\n",
       " 'analysis_url': 'https://api.spotify.com/v1/audio-analysis/3BQHpFgAp4l80e1XslIjNI',\n",
       " 'duration_ms': 125667,\n",
       " 'time_signature': 4}"
      ]
     },
     "execution_count": 5,
     "metadata": {},
     "output_type": "execute_result"
    }
   ],
   "source": [
    "input_all_features = sp.audio_features(results[\"tracks\"][\"items\"][0][\"id\"])[0]\n",
    "input_all_features"
   ]
  },
  {
   "cell_type": "code",
   "execution_count": 6,
   "id": "0024a200",
   "metadata": {},
   "outputs": [],
   "source": [
    "selected_features = ['danceability', 'energy','loudness', 'speechiness',\n",
    "                    'acousticness', 'instrumentalness', 'liveness','tempo']"
   ]
  },
  {
   "cell_type": "code",
   "execution_count": 7,
   "id": "7dcdff56",
   "metadata": {},
   "outputs": [
    {
     "data": {
      "text/plain": [
       "{'danceability': 0.332,\n",
       " 'energy': 0.179,\n",
       " 'loudness': -11.83,\n",
       " 'speechiness': 0.0326,\n",
       " 'acousticness': 0.879,\n",
       " 'instrumentalness': 0,\n",
       " 'liveness': 0.0886,\n",
       " 'tempo': 96.529}"
      ]
     },
     "execution_count": 7,
     "metadata": {},
     "output_type": "execute_result"
    }
   ],
   "source": [
    "input_features = {feature: input_all_features[feature] for feature in selected_features}\n",
    "input_features"
   ]
  },
  {
   "cell_type": "code",
   "execution_count": 8,
   "id": "2ac48355",
   "metadata": {
    "scrolled": false
   },
   "outputs": [
    {
     "data": {
      "text/html": [
       "<div>\n",
       "<style scoped>\n",
       "    .dataframe tbody tr th:only-of-type {\n",
       "        vertical-align: middle;\n",
       "    }\n",
       "\n",
       "    .dataframe tbody tr th {\n",
       "        vertical-align: top;\n",
       "    }\n",
       "\n",
       "    .dataframe thead th {\n",
       "        text-align: right;\n",
       "    }\n",
       "</style>\n",
       "<table border=\"1\" class=\"dataframe\">\n",
       "  <thead>\n",
       "    <tr style=\"text-align: right;\">\n",
       "      <th></th>\n",
       "      <th>danceability</th>\n",
       "      <th>energy</th>\n",
       "      <th>loudness</th>\n",
       "      <th>speechiness</th>\n",
       "      <th>acousticness</th>\n",
       "      <th>instrumentalness</th>\n",
       "      <th>liveness</th>\n",
       "      <th>tempo</th>\n",
       "    </tr>\n",
       "  </thead>\n",
       "  <tbody>\n",
       "    <tr>\n",
       "      <th>0</th>\n",
       "      <td>0.332</td>\n",
       "      <td>0.179</td>\n",
       "      <td>-11.83</td>\n",
       "      <td>0.0326</td>\n",
       "      <td>0.879</td>\n",
       "      <td>0</td>\n",
       "      <td>0.0886</td>\n",
       "      <td>96.529</td>\n",
       "    </tr>\n",
       "  </tbody>\n",
       "</table>\n",
       "</div>"
      ],
      "text/plain": [
       "   danceability  energy  loudness  speechiness  acousticness  \\\n",
       "0         0.332   0.179    -11.83       0.0326         0.879   \n",
       "\n",
       "   instrumentalness  liveness   tempo  \n",
       "0                 0    0.0886  96.529  "
      ]
     },
     "execution_count": 8,
     "metadata": {},
     "output_type": "execute_result"
    }
   ],
   "source": [
    "input_df = pd.DataFrame([input_features])\n",
    "input_df"
   ]
  },
  {
   "cell_type": "code",
   "execution_count": 9,
   "id": "7f3c193f",
   "metadata": {},
   "outputs": [],
   "source": [
    "def load(filename=\"newscaler.pickle\"):\n",
    "    try:\n",
    "        with open(filename, \"rb\") as f:\n",
    "            return pickle.load(f)\n",
    "    except FileNotFoundError:\n",
    "        print(\"File not found!\")"
   ]
  },
  {
   "cell_type": "code",
   "execution_count": 10,
   "id": "6f1842f9",
   "metadata": {},
   "outputs": [],
   "source": [
    "newscaler = load(\"newscaler.pickle\")"
   ]
  },
  {
   "cell_type": "code",
   "execution_count": 11,
   "id": "943e6189",
   "metadata": {},
   "outputs": [
    {
     "data": {
      "text/plain": [
       "array([[-1.77194337, -2.79509648, -1.7887062 , -0.70289091,  3.36249192,\n",
       "        -0.22396058, -0.66096447, -0.98105697]])"
      ]
     },
     "execution_count": 11,
     "metadata": {},
     "output_type": "execute_result"
    }
   ],
   "source": [
    "scaled_features = newscaler.transform(input_df)\n",
    "scaled_features"
   ]
  },
  {
   "cell_type": "code",
   "execution_count": 12,
   "id": "a05bbc8c",
   "metadata": {},
   "outputs": [
    {
     "data": {
      "text/html": [
       "<div>\n",
       "<style scoped>\n",
       "    .dataframe tbody tr th:only-of-type {\n",
       "        vertical-align: middle;\n",
       "    }\n",
       "\n",
       "    .dataframe tbody tr th {\n",
       "        vertical-align: top;\n",
       "    }\n",
       "\n",
       "    .dataframe thead th {\n",
       "        text-align: right;\n",
       "    }\n",
       "</style>\n",
       "<table border=\"1\" class=\"dataframe\">\n",
       "  <thead>\n",
       "    <tr style=\"text-align: right;\">\n",
       "      <th></th>\n",
       "      <th>danceability</th>\n",
       "      <th>energy</th>\n",
       "      <th>loudness</th>\n",
       "      <th>speechiness</th>\n",
       "      <th>acousticness</th>\n",
       "      <th>instrumentalness</th>\n",
       "      <th>liveness</th>\n",
       "      <th>tempo</th>\n",
       "    </tr>\n",
       "  </thead>\n",
       "  <tbody>\n",
       "    <tr>\n",
       "      <th>0</th>\n",
       "      <td>-1.771943</td>\n",
       "      <td>-2.795096</td>\n",
       "      <td>-1.788706</td>\n",
       "      <td>-0.702891</td>\n",
       "      <td>3.362492</td>\n",
       "      <td>-0.223961</td>\n",
       "      <td>-0.660964</td>\n",
       "      <td>-0.981057</td>\n",
       "    </tr>\n",
       "  </tbody>\n",
       "</table>\n",
       "</div>"
      ],
      "text/plain": [
       "   danceability    energy  loudness  speechiness  acousticness  \\\n",
       "0     -1.771943 -2.795096 -1.788706    -0.702891      3.362492   \n",
       "\n",
       "   instrumentalness  liveness     tempo  \n",
       "0         -0.223961 -0.660964 -0.981057  "
      ]
     },
     "execution_count": 12,
     "metadata": {},
     "output_type": "execute_result"
    }
   ],
   "source": [
    "scaled_features_df = pd.DataFrame(scaled_features, columns = input_df.columns)\n",
    "scaled_features_df"
   ]
  },
  {
   "cell_type": "code",
   "execution_count": 13,
   "id": "fb98a064",
   "metadata": {},
   "outputs": [],
   "source": [
    "# Loading a k-means model\n",
    "kmeans = load(filename = \"spotify_model.pickle\")"
   ]
  },
  {
   "cell_type": "code",
   "execution_count": 14,
   "id": "1bb108a7",
   "metadata": {},
   "outputs": [
    {
     "data": {
      "text/plain": [
       "16"
      ]
     },
     "execution_count": 14,
     "metadata": {},
     "output_type": "execute_result"
    }
   ],
   "source": [
    "predicted_cluster = kmeans.predict(scaled_features_df)[0]\n",
    "predicted_cluster"
   ]
  },
  {
   "cell_type": "code",
   "execution_count": 16,
   "id": "27284c58",
   "metadata": {
    "scrolled": true
   },
   "outputs": [],
   "source": [
    "X = pd.read_csv('new_df.csv')"
   ]
  },
  {
   "cell_type": "code",
   "execution_count": 34,
   "id": "14a11dff",
   "metadata": {},
   "outputs": [
    {
     "data": {
      "text/html": [
       "<div>\n",
       "<style scoped>\n",
       "    .dataframe tbody tr th:only-of-type {\n",
       "        vertical-align: middle;\n",
       "    }\n",
       "\n",
       "    .dataframe tbody tr th {\n",
       "        vertical-align: top;\n",
       "    }\n",
       "\n",
       "    .dataframe thead th {\n",
       "        text-align: right;\n",
       "    }\n",
       "</style>\n",
       "<table border=\"1\" class=\"dataframe\">\n",
       "  <thead>\n",
       "    <tr style=\"text-align: right;\">\n",
       "      <th></th>\n",
       "      <th>Unnamed: 0</th>\n",
       "      <th>danceability</th>\n",
       "      <th>energy</th>\n",
       "      <th>loudness</th>\n",
       "      <th>speechiness</th>\n",
       "      <th>acousticness</th>\n",
       "      <th>instrumentalness</th>\n",
       "      <th>liveness</th>\n",
       "      <th>tempo</th>\n",
       "      <th>cluster</th>\n",
       "      <th>id</th>\n",
       "    </tr>\n",
       "  </thead>\n",
       "  <tbody>\n",
       "    <tr>\n",
       "      <th>5167</th>\n",
       "      <td>5167</td>\n",
       "      <td>0.684</td>\n",
       "      <td>0.574</td>\n",
       "      <td>-7.487</td>\n",
       "      <td>0.291</td>\n",
       "      <td>0.633</td>\n",
       "      <td>0.0</td>\n",
       "      <td>0.113</td>\n",
       "      <td>80.427</td>\n",
       "      <td>16</td>\n",
       "      <td>6FFKaCx6rav6iqj5ag8tTZ</td>\n",
       "    </tr>\n",
       "  </tbody>\n",
       "</table>\n",
       "</div>"
      ],
      "text/plain": [
       "      Unnamed: 0  danceability  energy  loudness  speechiness  acousticness  \\\n",
       "5167        5167         0.684   0.574    -7.487        0.291         0.633   \n",
       "\n",
       "      instrumentalness  liveness   tempo  cluster                      id  \n",
       "5167               0.0     0.113  80.427       16  6FFKaCx6rav6iqj5ag8tTZ  "
      ]
     },
     "execution_count": 34,
     "metadata": {},
     "output_type": "execute_result"
    }
   ],
   "source": [
    "new_recommended = X[X['cluster'] == predicted_cluster].sample()\n",
    "new_recommended"
   ]
  },
  {
   "cell_type": "code",
   "execution_count": 41,
   "id": "a9bcaaff",
   "metadata": {},
   "outputs": [
    {
     "data": {
      "text/plain": [
       "'6FFKaCx6rav6iqj5ag8tTZ'"
      ]
     },
     "execution_count": 41,
     "metadata": {},
     "output_type": "execute_result"
    }
   ],
   "source": [
    "new_recommended[\"id\"].values[0]"
   ]
  },
  {
   "cell_type": "code",
   "execution_count": 18,
   "id": "e906df1d",
   "metadata": {},
   "outputs": [
    {
     "data": {
      "text/plain": [
       "array([ 0,  1,  2,  3,  4,  5,  6,  7,  8,  9, 10, 11, 12, 13, 14, 15, 16,\n",
       "       17, 18])"
      ]
     },
     "execution_count": 18,
     "metadata": {},
     "output_type": "execute_result"
    }
   ],
   "source": [
    "np.unique(kmeans.labels_)"
   ]
  },
  {
   "cell_type": "code",
   "execution_count": 21,
   "id": "574217f6",
   "metadata": {},
   "outputs": [],
   "source": [
    "def play_song(track_id):\n",
    "    return IFrame(src=\"https://open.spotify.com/embed/track/\"+track_id,\n",
    "                  width=\"320\",\n",
    "                  height=\"80\",\n",
    "                  frameborder=\"0\",\n",
    "                  allowtransparency=\"true\",\n",
    "                  allow=\"encrypted-media\",\n",
    "                  )\n"
   ]
  },
  {
   "cell_type": "code",
   "execution_count": 37,
   "id": "480e085b",
   "metadata": {},
   "outputs": [
    {
     "data": {
      "text/html": [
       "\n",
       "        <iframe\n",
       "            width=\"320\"\n",
       "            height=\"80\"\n",
       "            src=\"https://open.spotify.com/embed/track/5565?frameborder=0&allowtransparency=true&allow=encrypted-media\"\n",
       "            frameborder=\"0\"\n",
       "            allowfullscreen\n",
       "            \n",
       "        ></iframe>\n",
       "        "
      ],
      "text/plain": [
       "<IPython.lib.display.IFrame at 0x15b51e3a950>"
      ]
     },
     "metadata": {},
     "output_type": "display_data"
    }
   ],
   "source": [
    "display(play_song(\"5565\"))"
   ]
  },
  {
   "cell_type": "code",
   "execution_count": 24,
   "id": "ce608036",
   "metadata": {},
   "outputs": [],
   "source": [
    "kmeans = load(filename = \"spotify_model.pickle\")"
   ]
  },
  {
   "cell_type": "code",
   "execution_count": 27,
   "id": "c29afb0a",
   "metadata": {},
   "outputs": [
    {
     "data": {
      "text/plain": [
       "array([ 0,  1,  2,  3,  4,  5,  6,  7,  8,  9, 10, 11, 12, 13, 14, 15, 16,\n",
       "       17, 18])"
      ]
     },
     "execution_count": 27,
     "metadata": {},
     "output_type": "execute_result"
    }
   ],
   "source": [
    "np.unique(kmeans.labels_)"
   ]
  },
  {
   "cell_type": "code",
   "execution_count": null,
   "id": "da9bc2af",
   "metadata": {},
   "outputs": [],
   "source": []
  }
 ],
 "metadata": {
  "kernelspec": {
   "display_name": "Python 3 (ipykernel)",
   "language": "python",
   "name": "python3"
  },
  "language_info": {
   "codemirror_mode": {
    "name": "ipython",
    "version": 3
   },
   "file_extension": ".py",
   "mimetype": "text/x-python",
   "name": "python",
   "nbconvert_exporter": "python",
   "pygments_lexer": "ipython3",
   "version": "3.11.5"
  }
 },
 "nbformat": 4,
 "nbformat_minor": 5
}
