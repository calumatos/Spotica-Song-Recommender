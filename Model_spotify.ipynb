{
 "cells": [
  {
   "cell_type": "code",
   "execution_count": 1,
   "id": "da236b27",
   "metadata": {},
   "outputs": [],
   "source": [
    "import numpy as np\n",
    "import pandas as pd\n",
    "import pickle\n",
    "from sklearn import datasets # sklearn comes with some toy datasets to practice\n",
    "from sklearn.preprocessing import StandardScaler\n",
    "from sklearn.cluster import KMeans\n",
    "import matplotlib.pyplot as plt\n",
    "from sklearn.metrics import silhouette_score"
   ]
  },
  {
   "cell_type": "code",
   "execution_count": 2,
   "id": "bccfb784",
   "metadata": {},
   "outputs": [],
   "source": [
    "audiofeatures = pd.read_csv('audiofeatures.csv')"
   ]
  },
  {
   "cell_type": "code",
   "execution_count": 3,
   "id": "00eb1834",
   "metadata": {
    "scrolled": true
   },
   "outputs": [
    {
     "data": {
      "text/html": [
       "<div>\n",
       "<style scoped>\n",
       "    .dataframe tbody tr th:only-of-type {\n",
       "        vertical-align: middle;\n",
       "    }\n",
       "\n",
       "    .dataframe tbody tr th {\n",
       "        vertical-align: top;\n",
       "    }\n",
       "\n",
       "    .dataframe thead th {\n",
       "        text-align: right;\n",
       "    }\n",
       "</style>\n",
       "<table border=\"1\" class=\"dataframe\">\n",
       "  <thead>\n",
       "    <tr style=\"text-align: right;\">\n",
       "      <th></th>\n",
       "      <th>Unnamed: 0</th>\n",
       "      <th>danceability</th>\n",
       "      <th>energy</th>\n",
       "      <th>loudness</th>\n",
       "      <th>speechiness</th>\n",
       "      <th>acousticness</th>\n",
       "      <th>instrumentalness</th>\n",
       "      <th>liveness</th>\n",
       "      <th>tempo</th>\n",
       "      <th>id</th>\n",
       "    </tr>\n",
       "  </thead>\n",
       "  <tbody>\n",
       "    <tr>\n",
       "      <th>0</th>\n",
       "      <td>0</td>\n",
       "      <td>0.834</td>\n",
       "      <td>0.730</td>\n",
       "      <td>-3.714</td>\n",
       "      <td>0.2220</td>\n",
       "      <td>0.00513</td>\n",
       "      <td>0.000000</td>\n",
       "      <td>0.1240</td>\n",
       "      <td>155.008</td>\n",
       "      <td>2xLMifQCjDGFmkHkpNLD9h</td>\n",
       "    </tr>\n",
       "    <tr>\n",
       "      <th>1</th>\n",
       "      <td>1</td>\n",
       "      <td>0.789</td>\n",
       "      <td>0.706</td>\n",
       "      <td>-4.233</td>\n",
       "      <td>0.0429</td>\n",
       "      <td>0.11200</td>\n",
       "      <td>0.000017</td>\n",
       "      <td>0.0586</td>\n",
       "      <td>125.911</td>\n",
       "      <td>2ENexcMEMsYk0rVJigVD3i</td>\n",
       "    </tr>\n",
       "    <tr>\n",
       "      <th>2</th>\n",
       "      <td>2</td>\n",
       "      <td>0.706</td>\n",
       "      <td>0.751</td>\n",
       "      <td>-6.323</td>\n",
       "      <td>0.0708</td>\n",
       "      <td>0.17300</td>\n",
       "      <td>0.000000</td>\n",
       "      <td>0.1680</td>\n",
       "      <td>91.031</td>\n",
       "      <td>5vlEg2fT4cFWAqU5QptIpQ</td>\n",
       "    </tr>\n",
       "    <tr>\n",
       "      <th>3</th>\n",
       "      <td>3</td>\n",
       "      <td>0.884</td>\n",
       "      <td>0.347</td>\n",
       "      <td>-8.227</td>\n",
       "      <td>0.3500</td>\n",
       "      <td>0.01500</td>\n",
       "      <td>0.000007</td>\n",
       "      <td>0.0871</td>\n",
       "      <td>75.016</td>\n",
       "      <td>5eqK0tbzUPo2SoeZsov04s</td>\n",
       "    </tr>\n",
       "    <tr>\n",
       "      <th>4</th>\n",
       "      <td>4</td>\n",
       "      <td>0.656</td>\n",
       "      <td>0.291</td>\n",
       "      <td>-10.572</td>\n",
       "      <td>0.0293</td>\n",
       "      <td>0.87200</td>\n",
       "      <td>0.000000</td>\n",
       "      <td>0.1140</td>\n",
       "      <td>103.971</td>\n",
       "      <td>4RCWB3V8V0dignt99LZ8vH</td>\n",
       "    </tr>\n",
       "    <tr>\n",
       "      <th>...</th>\n",
       "      <td>...</td>\n",
       "      <td>...</td>\n",
       "      <td>...</td>\n",
       "      <td>...</td>\n",
       "      <td>...</td>\n",
       "      <td>...</td>\n",
       "      <td>...</td>\n",
       "      <td>...</td>\n",
       "      <td>...</td>\n",
       "      <td>...</td>\n",
       "    </tr>\n",
       "    <tr>\n",
       "      <th>6564</th>\n",
       "      <td>6564</td>\n",
       "      <td>0.796</td>\n",
       "      <td>0.877</td>\n",
       "      <td>-4.241</td>\n",
       "      <td>0.0657</td>\n",
       "      <td>0.12000</td>\n",
       "      <td>0.000018</td>\n",
       "      <td>0.1020</td>\n",
       "      <td>104.963</td>\n",
       "      <td>3JU7TK8XomSpjSHDT6VquU</td>\n",
       "    </tr>\n",
       "    <tr>\n",
       "      <th>6565</th>\n",
       "      <td>6565</td>\n",
       "      <td>0.516</td>\n",
       "      <td>0.466</td>\n",
       "      <td>-7.075</td>\n",
       "      <td>0.0299</td>\n",
       "      <td>0.38400</td>\n",
       "      <td>0.000305</td>\n",
       "      <td>0.2150</td>\n",
       "      <td>178.013</td>\n",
       "      <td>30rgtGTl30WcfiyDDqo94A</td>\n",
       "    </tr>\n",
       "    <tr>\n",
       "      <th>6566</th>\n",
       "      <td>6566</td>\n",
       "      <td>0.671</td>\n",
       "      <td>0.550</td>\n",
       "      <td>-9.660</td>\n",
       "      <td>0.2840</td>\n",
       "      <td>0.01590</td>\n",
       "      <td>0.000734</td>\n",
       "      <td>0.0962</td>\n",
       "      <td>159.991</td>\n",
       "      <td>76bYq5K4mqYK43n1lcMrjB</td>\n",
       "    </tr>\n",
       "    <tr>\n",
       "      <th>6567</th>\n",
       "      <td>6567</td>\n",
       "      <td>0.346</td>\n",
       "      <td>0.942</td>\n",
       "      <td>-6.005</td>\n",
       "      <td>0.0722</td>\n",
       "      <td>0.00726</td>\n",
       "      <td>0.062500</td>\n",
       "      <td>0.3440</td>\n",
       "      <td>154.192</td>\n",
       "      <td>3yLXnO1XfG5XwgOLBLhgDa</td>\n",
       "    </tr>\n",
       "    <tr>\n",
       "      <th>6568</th>\n",
       "      <td>6568</td>\n",
       "      <td>0.644</td>\n",
       "      <td>0.823</td>\n",
       "      <td>-7.892</td>\n",
       "      <td>0.0679</td>\n",
       "      <td>0.23000</td>\n",
       "      <td>0.000000</td>\n",
       "      <td>0.4460</td>\n",
       "      <td>142.197</td>\n",
       "      <td>2AWzAiDUHM2IXtchjMyKi4</td>\n",
       "    </tr>\n",
       "  </tbody>\n",
       "</table>\n",
       "<p>6569 rows × 10 columns</p>\n",
       "</div>"
      ],
      "text/plain": [
       "      Unnamed: 0  danceability  energy  loudness  speechiness  acousticness  \\\n",
       "0              0         0.834   0.730    -3.714       0.2220       0.00513   \n",
       "1              1         0.789   0.706    -4.233       0.0429       0.11200   \n",
       "2              2         0.706   0.751    -6.323       0.0708       0.17300   \n",
       "3              3         0.884   0.347    -8.227       0.3500       0.01500   \n",
       "4              4         0.656   0.291   -10.572       0.0293       0.87200   \n",
       "...          ...           ...     ...       ...          ...           ...   \n",
       "6564        6564         0.796   0.877    -4.241       0.0657       0.12000   \n",
       "6565        6565         0.516   0.466    -7.075       0.0299       0.38400   \n",
       "6566        6566         0.671   0.550    -9.660       0.2840       0.01590   \n",
       "6567        6567         0.346   0.942    -6.005       0.0722       0.00726   \n",
       "6568        6568         0.644   0.823    -7.892       0.0679       0.23000   \n",
       "\n",
       "      instrumentalness  liveness    tempo                      id  \n",
       "0             0.000000    0.1240  155.008  2xLMifQCjDGFmkHkpNLD9h  \n",
       "1             0.000017    0.0586  125.911  2ENexcMEMsYk0rVJigVD3i  \n",
       "2             0.000000    0.1680   91.031  5vlEg2fT4cFWAqU5QptIpQ  \n",
       "3             0.000007    0.0871   75.016  5eqK0tbzUPo2SoeZsov04s  \n",
       "4             0.000000    0.1140  103.971  4RCWB3V8V0dignt99LZ8vH  \n",
       "...                ...       ...      ...                     ...  \n",
       "6564          0.000018    0.1020  104.963  3JU7TK8XomSpjSHDT6VquU  \n",
       "6565          0.000305    0.2150  178.013  30rgtGTl30WcfiyDDqo94A  \n",
       "6566          0.000734    0.0962  159.991  76bYq5K4mqYK43n1lcMrjB  \n",
       "6567          0.062500    0.3440  154.192  3yLXnO1XfG5XwgOLBLhgDa  \n",
       "6568          0.000000    0.4460  142.197  2AWzAiDUHM2IXtchjMyKi4  \n",
       "\n",
       "[6569 rows x 10 columns]"
      ]
     },
     "execution_count": 3,
     "metadata": {},
     "output_type": "execute_result"
    }
   ],
   "source": [
    "audiofeatures"
   ]
  },
  {
   "cell_type": "code",
   "execution_count": 5,
   "id": "bb9d6815",
   "metadata": {},
   "outputs": [],
   "source": [
    "id_df = audiofeatures[['id']]\n",
    "\n",
    "id_df.to_csv('id_df.csv', index=False)"
   ]
  },
  {
   "cell_type": "code",
   "execution_count": 6,
   "id": "e1571e3a",
   "metadata": {},
   "outputs": [],
   "source": [
    "# drop the columns \n",
    "audiofeatures.drop(['Unnamed: 0', 'id'], axis= 1, inplace= True)"
   ]
  },
  {
   "cell_type": "code",
   "execution_count": 7,
   "id": "accdb339",
   "metadata": {
    "scrolled": false
   },
   "outputs": [
    {
     "data": {
      "text/html": [
       "<div>\n",
       "<style scoped>\n",
       "    .dataframe tbody tr th:only-of-type {\n",
       "        vertical-align: middle;\n",
       "    }\n",
       "\n",
       "    .dataframe tbody tr th {\n",
       "        vertical-align: top;\n",
       "    }\n",
       "\n",
       "    .dataframe thead th {\n",
       "        text-align: right;\n",
       "    }\n",
       "</style>\n",
       "<table border=\"1\" class=\"dataframe\">\n",
       "  <thead>\n",
       "    <tr style=\"text-align: right;\">\n",
       "      <th></th>\n",
       "      <th>danceability</th>\n",
       "      <th>energy</th>\n",
       "      <th>loudness</th>\n",
       "      <th>speechiness</th>\n",
       "      <th>acousticness</th>\n",
       "      <th>instrumentalness</th>\n",
       "      <th>liveness</th>\n",
       "      <th>tempo</th>\n",
       "    </tr>\n",
       "  </thead>\n",
       "  <tbody>\n",
       "    <tr>\n",
       "      <th>0</th>\n",
       "      <td>0.834</td>\n",
       "      <td>0.730</td>\n",
       "      <td>-3.714</td>\n",
       "      <td>0.2220</td>\n",
       "      <td>0.00513</td>\n",
       "      <td>0.000000</td>\n",
       "      <td>0.1240</td>\n",
       "      <td>155.008</td>\n",
       "    </tr>\n",
       "    <tr>\n",
       "      <th>1</th>\n",
       "      <td>0.789</td>\n",
       "      <td>0.706</td>\n",
       "      <td>-4.233</td>\n",
       "      <td>0.0429</td>\n",
       "      <td>0.11200</td>\n",
       "      <td>0.000017</td>\n",
       "      <td>0.0586</td>\n",
       "      <td>125.911</td>\n",
       "    </tr>\n",
       "    <tr>\n",
       "      <th>2</th>\n",
       "      <td>0.706</td>\n",
       "      <td>0.751</td>\n",
       "      <td>-6.323</td>\n",
       "      <td>0.0708</td>\n",
       "      <td>0.17300</td>\n",
       "      <td>0.000000</td>\n",
       "      <td>0.1680</td>\n",
       "      <td>91.031</td>\n",
       "    </tr>\n",
       "    <tr>\n",
       "      <th>3</th>\n",
       "      <td>0.884</td>\n",
       "      <td>0.347</td>\n",
       "      <td>-8.227</td>\n",
       "      <td>0.3500</td>\n",
       "      <td>0.01500</td>\n",
       "      <td>0.000007</td>\n",
       "      <td>0.0871</td>\n",
       "      <td>75.016</td>\n",
       "    </tr>\n",
       "    <tr>\n",
       "      <th>4</th>\n",
       "      <td>0.656</td>\n",
       "      <td>0.291</td>\n",
       "      <td>-10.572</td>\n",
       "      <td>0.0293</td>\n",
       "      <td>0.87200</td>\n",
       "      <td>0.000000</td>\n",
       "      <td>0.1140</td>\n",
       "      <td>103.971</td>\n",
       "    </tr>\n",
       "    <tr>\n",
       "      <th>...</th>\n",
       "      <td>...</td>\n",
       "      <td>...</td>\n",
       "      <td>...</td>\n",
       "      <td>...</td>\n",
       "      <td>...</td>\n",
       "      <td>...</td>\n",
       "      <td>...</td>\n",
       "      <td>...</td>\n",
       "    </tr>\n",
       "    <tr>\n",
       "      <th>6564</th>\n",
       "      <td>0.796</td>\n",
       "      <td>0.877</td>\n",
       "      <td>-4.241</td>\n",
       "      <td>0.0657</td>\n",
       "      <td>0.12000</td>\n",
       "      <td>0.000018</td>\n",
       "      <td>0.1020</td>\n",
       "      <td>104.963</td>\n",
       "    </tr>\n",
       "    <tr>\n",
       "      <th>6565</th>\n",
       "      <td>0.516</td>\n",
       "      <td>0.466</td>\n",
       "      <td>-7.075</td>\n",
       "      <td>0.0299</td>\n",
       "      <td>0.38400</td>\n",
       "      <td>0.000305</td>\n",
       "      <td>0.2150</td>\n",
       "      <td>178.013</td>\n",
       "    </tr>\n",
       "    <tr>\n",
       "      <th>6566</th>\n",
       "      <td>0.671</td>\n",
       "      <td>0.550</td>\n",
       "      <td>-9.660</td>\n",
       "      <td>0.2840</td>\n",
       "      <td>0.01590</td>\n",
       "      <td>0.000734</td>\n",
       "      <td>0.0962</td>\n",
       "      <td>159.991</td>\n",
       "    </tr>\n",
       "    <tr>\n",
       "      <th>6567</th>\n",
       "      <td>0.346</td>\n",
       "      <td>0.942</td>\n",
       "      <td>-6.005</td>\n",
       "      <td>0.0722</td>\n",
       "      <td>0.00726</td>\n",
       "      <td>0.062500</td>\n",
       "      <td>0.3440</td>\n",
       "      <td>154.192</td>\n",
       "    </tr>\n",
       "    <tr>\n",
       "      <th>6568</th>\n",
       "      <td>0.644</td>\n",
       "      <td>0.823</td>\n",
       "      <td>-7.892</td>\n",
       "      <td>0.0679</td>\n",
       "      <td>0.23000</td>\n",
       "      <td>0.000000</td>\n",
       "      <td>0.4460</td>\n",
       "      <td>142.197</td>\n",
       "    </tr>\n",
       "  </tbody>\n",
       "</table>\n",
       "<p>6569 rows × 8 columns</p>\n",
       "</div>"
      ],
      "text/plain": [
       "      danceability  energy  loudness  speechiness  acousticness  \\\n",
       "0            0.834   0.730    -3.714       0.2220       0.00513   \n",
       "1            0.789   0.706    -4.233       0.0429       0.11200   \n",
       "2            0.706   0.751    -6.323       0.0708       0.17300   \n",
       "3            0.884   0.347    -8.227       0.3500       0.01500   \n",
       "4            0.656   0.291   -10.572       0.0293       0.87200   \n",
       "...            ...     ...       ...          ...           ...   \n",
       "6564         0.796   0.877    -4.241       0.0657       0.12000   \n",
       "6565         0.516   0.466    -7.075       0.0299       0.38400   \n",
       "6566         0.671   0.550    -9.660       0.2840       0.01590   \n",
       "6567         0.346   0.942    -6.005       0.0722       0.00726   \n",
       "6568         0.644   0.823    -7.892       0.0679       0.23000   \n",
       "\n",
       "      instrumentalness  liveness    tempo  \n",
       "0             0.000000    0.1240  155.008  \n",
       "1             0.000017    0.0586  125.911  \n",
       "2             0.000000    0.1680   91.031  \n",
       "3             0.000007    0.0871   75.016  \n",
       "4             0.000000    0.1140  103.971  \n",
       "...                ...       ...      ...  \n",
       "6564          0.000018    0.1020  104.963  \n",
       "6565          0.000305    0.2150  178.013  \n",
       "6566          0.000734    0.0962  159.991  \n",
       "6567          0.062500    0.3440  154.192  \n",
       "6568          0.000000    0.4460  142.197  \n",
       "\n",
       "[6569 rows x 8 columns]"
      ]
     },
     "execution_count": 7,
     "metadata": {},
     "output_type": "execute_result"
    }
   ],
   "source": [
    "audiofeatures"
   ]
  },
  {
   "cell_type": "code",
   "execution_count": 8,
   "id": "bf601ecc",
   "metadata": {},
   "outputs": [
    {
     "data": {
      "text/html": [
       "<div>\n",
       "<style scoped>\n",
       "    .dataframe tbody tr th:only-of-type {\n",
       "        vertical-align: middle;\n",
       "    }\n",
       "\n",
       "    .dataframe tbody tr th {\n",
       "        vertical-align: top;\n",
       "    }\n",
       "\n",
       "    .dataframe thead th {\n",
       "        text-align: right;\n",
       "    }\n",
       "</style>\n",
       "<table border=\"1\" class=\"dataframe\">\n",
       "  <thead>\n",
       "    <tr style=\"text-align: right;\">\n",
       "      <th></th>\n",
       "      <th>danceability</th>\n",
       "      <th>energy</th>\n",
       "      <th>loudness</th>\n",
       "      <th>speechiness</th>\n",
       "      <th>acousticness</th>\n",
       "      <th>instrumentalness</th>\n",
       "      <th>liveness</th>\n",
       "      <th>tempo</th>\n",
       "    </tr>\n",
       "  </thead>\n",
       "  <tbody>\n",
       "    <tr>\n",
       "      <th>0</th>\n",
       "      <td>0.834</td>\n",
       "      <td>0.730</td>\n",
       "      <td>-3.714</td>\n",
       "      <td>0.2220</td>\n",
       "      <td>0.00513</td>\n",
       "      <td>0.000000</td>\n",
       "      <td>0.1240</td>\n",
       "      <td>155.008</td>\n",
       "    </tr>\n",
       "    <tr>\n",
       "      <th>1</th>\n",
       "      <td>0.789</td>\n",
       "      <td>0.706</td>\n",
       "      <td>-4.233</td>\n",
       "      <td>0.0429</td>\n",
       "      <td>0.11200</td>\n",
       "      <td>0.000017</td>\n",
       "      <td>0.0586</td>\n",
       "      <td>125.911</td>\n",
       "    </tr>\n",
       "    <tr>\n",
       "      <th>2</th>\n",
       "      <td>0.706</td>\n",
       "      <td>0.751</td>\n",
       "      <td>-6.323</td>\n",
       "      <td>0.0708</td>\n",
       "      <td>0.17300</td>\n",
       "      <td>0.000000</td>\n",
       "      <td>0.1680</td>\n",
       "      <td>91.031</td>\n",
       "    </tr>\n",
       "    <tr>\n",
       "      <th>3</th>\n",
       "      <td>0.884</td>\n",
       "      <td>0.347</td>\n",
       "      <td>-8.227</td>\n",
       "      <td>0.3500</td>\n",
       "      <td>0.01500</td>\n",
       "      <td>0.000007</td>\n",
       "      <td>0.0871</td>\n",
       "      <td>75.016</td>\n",
       "    </tr>\n",
       "    <tr>\n",
       "      <th>4</th>\n",
       "      <td>0.656</td>\n",
       "      <td>0.291</td>\n",
       "      <td>-10.572</td>\n",
       "      <td>0.0293</td>\n",
       "      <td>0.87200</td>\n",
       "      <td>0.000000</td>\n",
       "      <td>0.1140</td>\n",
       "      <td>103.971</td>\n",
       "    </tr>\n",
       "  </tbody>\n",
       "</table>\n",
       "</div>"
      ],
      "text/plain": [
       "   danceability  energy  loudness  speechiness  acousticness  \\\n",
       "0         0.834   0.730    -3.714       0.2220       0.00513   \n",
       "1         0.789   0.706    -4.233       0.0429       0.11200   \n",
       "2         0.706   0.751    -6.323       0.0708       0.17300   \n",
       "3         0.884   0.347    -8.227       0.3500       0.01500   \n",
       "4         0.656   0.291   -10.572       0.0293       0.87200   \n",
       "\n",
       "   instrumentalness  liveness    tempo  \n",
       "0          0.000000    0.1240  155.008  \n",
       "1          0.000017    0.0586  125.911  \n",
       "2          0.000000    0.1680   91.031  \n",
       "3          0.000007    0.0871   75.016  \n",
       "4          0.000000    0.1140  103.971  "
      ]
     },
     "execution_count": 8,
     "metadata": {},
     "output_type": "execute_result"
    }
   ],
   "source": [
    "X = audiofeatures\n",
    "X.head()"
   ]
  },
  {
   "cell_type": "code",
   "execution_count": 9,
   "id": "fe4fc465",
   "metadata": {},
   "outputs": [],
   "source": [
    "### Scalling features"
   ]
  },
  {
   "cell_type": "code",
   "execution_count": 10,
   "id": "bf5af1cf",
   "metadata": {},
   "outputs": [
    {
     "data": {
      "text/html": [
       "<div>\n",
       "<style scoped>\n",
       "    .dataframe tbody tr th:only-of-type {\n",
       "        vertical-align: middle;\n",
       "    }\n",
       "\n",
       "    .dataframe tbody tr th {\n",
       "        vertical-align: top;\n",
       "    }\n",
       "\n",
       "    .dataframe thead th {\n",
       "        text-align: right;\n",
       "    }\n",
       "</style>\n",
       "<table border=\"1\" class=\"dataframe\">\n",
       "  <thead>\n",
       "    <tr style=\"text-align: right;\">\n",
       "      <th></th>\n",
       "      <th>danceability</th>\n",
       "      <th>energy</th>\n",
       "      <th>loudness</th>\n",
       "      <th>speechiness</th>\n",
       "      <th>acousticness</th>\n",
       "      <th>instrumentalness</th>\n",
       "      <th>liveness</th>\n",
       "      <th>tempo</th>\n",
       "    </tr>\n",
       "  </thead>\n",
       "  <tbody>\n",
       "    <tr>\n",
       "      <th>0</th>\n",
       "      <td>0.834</td>\n",
       "      <td>0.730</td>\n",
       "      <td>-3.714</td>\n",
       "      <td>0.2220</td>\n",
       "      <td>0.00513</td>\n",
       "      <td>0.000000</td>\n",
       "      <td>0.1240</td>\n",
       "      <td>155.008</td>\n",
       "    </tr>\n",
       "    <tr>\n",
       "      <th>1</th>\n",
       "      <td>0.789</td>\n",
       "      <td>0.706</td>\n",
       "      <td>-4.233</td>\n",
       "      <td>0.0429</td>\n",
       "      <td>0.11200</td>\n",
       "      <td>0.000017</td>\n",
       "      <td>0.0586</td>\n",
       "      <td>125.911</td>\n",
       "    </tr>\n",
       "    <tr>\n",
       "      <th>2</th>\n",
       "      <td>0.706</td>\n",
       "      <td>0.751</td>\n",
       "      <td>-6.323</td>\n",
       "      <td>0.0708</td>\n",
       "      <td>0.17300</td>\n",
       "      <td>0.000000</td>\n",
       "      <td>0.1680</td>\n",
       "      <td>91.031</td>\n",
       "    </tr>\n",
       "    <tr>\n",
       "      <th>3</th>\n",
       "      <td>0.884</td>\n",
       "      <td>0.347</td>\n",
       "      <td>-8.227</td>\n",
       "      <td>0.3500</td>\n",
       "      <td>0.01500</td>\n",
       "      <td>0.000007</td>\n",
       "      <td>0.0871</td>\n",
       "      <td>75.016</td>\n",
       "    </tr>\n",
       "    <tr>\n",
       "      <th>4</th>\n",
       "      <td>0.656</td>\n",
       "      <td>0.291</td>\n",
       "      <td>-10.572</td>\n",
       "      <td>0.0293</td>\n",
       "      <td>0.87200</td>\n",
       "      <td>0.000000</td>\n",
       "      <td>0.1140</td>\n",
       "      <td>103.971</td>\n",
       "    </tr>\n",
       "    <tr>\n",
       "      <th>...</th>\n",
       "      <td>...</td>\n",
       "      <td>...</td>\n",
       "      <td>...</td>\n",
       "      <td>...</td>\n",
       "      <td>...</td>\n",
       "      <td>...</td>\n",
       "      <td>...</td>\n",
       "      <td>...</td>\n",
       "    </tr>\n",
       "    <tr>\n",
       "      <th>6564</th>\n",
       "      <td>0.796</td>\n",
       "      <td>0.877</td>\n",
       "      <td>-4.241</td>\n",
       "      <td>0.0657</td>\n",
       "      <td>0.12000</td>\n",
       "      <td>0.000018</td>\n",
       "      <td>0.1020</td>\n",
       "      <td>104.963</td>\n",
       "    </tr>\n",
       "    <tr>\n",
       "      <th>6565</th>\n",
       "      <td>0.516</td>\n",
       "      <td>0.466</td>\n",
       "      <td>-7.075</td>\n",
       "      <td>0.0299</td>\n",
       "      <td>0.38400</td>\n",
       "      <td>0.000305</td>\n",
       "      <td>0.2150</td>\n",
       "      <td>178.013</td>\n",
       "    </tr>\n",
       "    <tr>\n",
       "      <th>6566</th>\n",
       "      <td>0.671</td>\n",
       "      <td>0.550</td>\n",
       "      <td>-9.660</td>\n",
       "      <td>0.2840</td>\n",
       "      <td>0.01590</td>\n",
       "      <td>0.000734</td>\n",
       "      <td>0.0962</td>\n",
       "      <td>159.991</td>\n",
       "    </tr>\n",
       "    <tr>\n",
       "      <th>6567</th>\n",
       "      <td>0.346</td>\n",
       "      <td>0.942</td>\n",
       "      <td>-6.005</td>\n",
       "      <td>0.0722</td>\n",
       "      <td>0.00726</td>\n",
       "      <td>0.062500</td>\n",
       "      <td>0.3440</td>\n",
       "      <td>154.192</td>\n",
       "    </tr>\n",
       "    <tr>\n",
       "      <th>6568</th>\n",
       "      <td>0.644</td>\n",
       "      <td>0.823</td>\n",
       "      <td>-7.892</td>\n",
       "      <td>0.0679</td>\n",
       "      <td>0.23000</td>\n",
       "      <td>0.000000</td>\n",
       "      <td>0.4460</td>\n",
       "      <td>142.197</td>\n",
       "    </tr>\n",
       "  </tbody>\n",
       "</table>\n",
       "<p>6569 rows × 8 columns</p>\n",
       "</div>"
      ],
      "text/plain": [
       "      danceability  energy  loudness  speechiness  acousticness  \\\n",
       "0            0.834   0.730    -3.714       0.2220       0.00513   \n",
       "1            0.789   0.706    -4.233       0.0429       0.11200   \n",
       "2            0.706   0.751    -6.323       0.0708       0.17300   \n",
       "3            0.884   0.347    -8.227       0.3500       0.01500   \n",
       "4            0.656   0.291   -10.572       0.0293       0.87200   \n",
       "...            ...     ...       ...          ...           ...   \n",
       "6564         0.796   0.877    -4.241       0.0657       0.12000   \n",
       "6565         0.516   0.466    -7.075       0.0299       0.38400   \n",
       "6566         0.671   0.550    -9.660       0.2840       0.01590   \n",
       "6567         0.346   0.942    -6.005       0.0722       0.00726   \n",
       "6568         0.644   0.823    -7.892       0.0679       0.23000   \n",
       "\n",
       "      instrumentalness  liveness    tempo  \n",
       "0             0.000000    0.1240  155.008  \n",
       "1             0.000017    0.0586  125.911  \n",
       "2             0.000000    0.1680   91.031  \n",
       "3             0.000007    0.0871   75.016  \n",
       "4             0.000000    0.1140  103.971  \n",
       "...                ...       ...      ...  \n",
       "6564          0.000018    0.1020  104.963  \n",
       "6565          0.000305    0.2150  178.013  \n",
       "6566          0.000734    0.0962  159.991  \n",
       "6567          0.062500    0.3440  154.192  \n",
       "6568          0.000000    0.4460  142.197  \n",
       "\n",
       "[6569 rows x 8 columns]"
      ]
     },
     "execution_count": 10,
     "metadata": {},
     "output_type": "execute_result"
    }
   ],
   "source": [
    "X"
   ]
  },
  {
   "cell_type": "code",
   "execution_count": 11,
   "id": "48d15dc9",
   "metadata": {},
   "outputs": [
    {
     "data": {
      "text/html": [
       "<div>\n",
       "<style scoped>\n",
       "    .dataframe tbody tr th:only-of-type {\n",
       "        vertical-align: middle;\n",
       "    }\n",
       "\n",
       "    .dataframe tbody tr th {\n",
       "        vertical-align: top;\n",
       "    }\n",
       "\n",
       "    .dataframe thead th {\n",
       "        text-align: right;\n",
       "    }\n",
       "</style>\n",
       "<table border=\"1\" class=\"dataframe\">\n",
       "  <thead>\n",
       "    <tr style=\"text-align: right;\">\n",
       "      <th></th>\n",
       "      <th>danceability</th>\n",
       "      <th>energy</th>\n",
       "      <th>loudness</th>\n",
       "      <th>speechiness</th>\n",
       "      <th>acousticness</th>\n",
       "      <th>instrumentalness</th>\n",
       "      <th>liveness</th>\n",
       "      <th>tempo</th>\n",
       "    </tr>\n",
       "  </thead>\n",
       "  <tbody>\n",
       "    <tr>\n",
       "      <th>count</th>\n",
       "      <td>6569.000000</td>\n",
       "      <td>6569.000000</td>\n",
       "      <td>6569.000000</td>\n",
       "      <td>6569.000000</td>\n",
       "      <td>6569.000000</td>\n",
       "      <td>6569.000000</td>\n",
       "      <td>6569.000000</td>\n",
       "      <td>6569.000000</td>\n",
       "    </tr>\n",
       "    <tr>\n",
       "      <th>mean</th>\n",
       "      <td>0.618433</td>\n",
       "      <td>0.675207</td>\n",
       "      <td>-6.621456</td>\n",
       "      <td>0.106173</td>\n",
       "      <td>0.163173</td>\n",
       "      <td>0.030983</td>\n",
       "      <td>0.181690</td>\n",
       "      <td>126.039674</td>\n",
       "    </tr>\n",
       "    <tr>\n",
       "      <th>std</th>\n",
       "      <td>0.161662</td>\n",
       "      <td>0.177541</td>\n",
       "      <td>2.912128</td>\n",
       "      <td>0.104679</td>\n",
       "      <td>0.212902</td>\n",
       "      <td>0.138352</td>\n",
       "      <td>0.140851</td>\n",
       "      <td>30.082779</td>\n",
       "    </tr>\n",
       "    <tr>\n",
       "      <th>min</th>\n",
       "      <td>0.065700</td>\n",
       "      <td>0.016700</td>\n",
       "      <td>-25.247000</td>\n",
       "      <td>0.022900</td>\n",
       "      <td>0.000001</td>\n",
       "      <td>0.000000</td>\n",
       "      <td>0.020800</td>\n",
       "      <td>52.145000</td>\n",
       "    </tr>\n",
       "    <tr>\n",
       "      <th>25%</th>\n",
       "      <td>0.495000</td>\n",
       "      <td>0.531000</td>\n",
       "      <td>-8.066000</td>\n",
       "      <td>0.041300</td>\n",
       "      <td>0.017200</td>\n",
       "      <td>0.000000</td>\n",
       "      <td>0.097900</td>\n",
       "      <td>100.832000</td>\n",
       "    </tr>\n",
       "    <tr>\n",
       "      <th>50%</th>\n",
       "      <td>0.637000</td>\n",
       "      <td>0.690000</td>\n",
       "      <td>-5.995000</td>\n",
       "      <td>0.067600</td>\n",
       "      <td>0.076600</td>\n",
       "      <td>0.000002</td>\n",
       "      <td>0.119000</td>\n",
       "      <td>124.080000</td>\n",
       "    </tr>\n",
       "    <tr>\n",
       "      <th>75%</th>\n",
       "      <td>0.740000</td>\n",
       "      <td>0.817000</td>\n",
       "      <td>-4.614000</td>\n",
       "      <td>0.122000</td>\n",
       "      <td>0.222000</td>\n",
       "      <td>0.000101</td>\n",
       "      <td>0.230000</td>\n",
       "      <td>146.967000</td>\n",
       "    </tr>\n",
       "    <tr>\n",
       "      <th>max</th>\n",
       "      <td>0.980000</td>\n",
       "      <td>0.997000</td>\n",
       "      <td>-0.140000</td>\n",
       "      <td>0.950000</td>\n",
       "      <td>0.979000</td>\n",
       "      <td>0.985000</td>\n",
       "      <td>0.994000</td>\n",
       "      <td>213.893000</td>\n",
       "    </tr>\n",
       "  </tbody>\n",
       "</table>\n",
       "</div>"
      ],
      "text/plain": [
       "       danceability       energy     loudness  speechiness  acousticness  \\\n",
       "count   6569.000000  6569.000000  6569.000000  6569.000000   6569.000000   \n",
       "mean       0.618433     0.675207    -6.621456     0.106173      0.163173   \n",
       "std        0.161662     0.177541     2.912128     0.104679      0.212902   \n",
       "min        0.065700     0.016700   -25.247000     0.022900      0.000001   \n",
       "25%        0.495000     0.531000    -8.066000     0.041300      0.017200   \n",
       "50%        0.637000     0.690000    -5.995000     0.067600      0.076600   \n",
       "75%        0.740000     0.817000    -4.614000     0.122000      0.222000   \n",
       "max        0.980000     0.997000    -0.140000     0.950000      0.979000   \n",
       "\n",
       "       instrumentalness     liveness        tempo  \n",
       "count       6569.000000  6569.000000  6569.000000  \n",
       "mean           0.030983     0.181690   126.039674  \n",
       "std            0.138352     0.140851    30.082779  \n",
       "min            0.000000     0.020800    52.145000  \n",
       "25%            0.000000     0.097900   100.832000  \n",
       "50%            0.000002     0.119000   124.080000  \n",
       "75%            0.000101     0.230000   146.967000  \n",
       "max            0.985000     0.994000   213.893000  "
      ]
     },
     "execution_count": 11,
     "metadata": {},
     "output_type": "execute_result"
    }
   ],
   "source": [
    "X.describe()"
   ]
  },
  {
   "cell_type": "code",
   "execution_count": 12,
   "id": "f98dfb84",
   "metadata": {},
   "outputs": [
    {
     "name": "stdout",
     "output_type": "stream",
     "text": [
      "\n"
     ]
    },
    {
     "data": {
      "text/html": [
       "<div>\n",
       "<style scoped>\n",
       "    .dataframe tbody tr th:only-of-type {\n",
       "        vertical-align: middle;\n",
       "    }\n",
       "\n",
       "    .dataframe tbody tr th {\n",
       "        vertical-align: top;\n",
       "    }\n",
       "\n",
       "    .dataframe thead th {\n",
       "        text-align: right;\n",
       "    }\n",
       "</style>\n",
       "<table border=\"1\" class=\"dataframe\">\n",
       "  <thead>\n",
       "    <tr style=\"text-align: right;\">\n",
       "      <th></th>\n",
       "      <th>danceability</th>\n",
       "      <th>energy</th>\n",
       "      <th>loudness</th>\n",
       "      <th>speechiness</th>\n",
       "      <th>acousticness</th>\n",
       "      <th>instrumentalness</th>\n",
       "      <th>liveness</th>\n",
       "      <th>tempo</th>\n",
       "    </tr>\n",
       "  </thead>\n",
       "  <tbody>\n",
       "    <tr>\n",
       "      <th>0</th>\n",
       "      <td>1.333545</td>\n",
       "      <td>0.308643</td>\n",
       "      <td>0.998472</td>\n",
       "      <td>1.106582</td>\n",
       "      <td>-0.742381</td>\n",
       "      <td>-0.223961</td>\n",
       "      <td>-0.409616</td>\n",
       "      <td>0.963027</td>\n",
       "    </tr>\n",
       "    <tr>\n",
       "      <th>1</th>\n",
       "      <td>1.055165</td>\n",
       "      <td>0.173453</td>\n",
       "      <td>0.820238</td>\n",
       "      <td>-0.604488</td>\n",
       "      <td>-0.240375</td>\n",
       "      <td>-0.223837</td>\n",
       "      <td>-0.873972</td>\n",
       "      <td>-0.004278</td>\n",
       "    </tr>\n",
       "    <tr>\n",
       "      <th>2</th>\n",
       "      <td>0.541708</td>\n",
       "      <td>0.426935</td>\n",
       "      <td>0.102495</td>\n",
       "      <td>-0.337939</td>\n",
       "      <td>0.046163</td>\n",
       "      <td>-0.223961</td>\n",
       "      <td>-0.097206</td>\n",
       "      <td>-1.163833</td>\n",
       "    </tr>\n",
       "    <tr>\n",
       "      <th>3</th>\n",
       "      <td>1.642857</td>\n",
       "      <td>-1.848766</td>\n",
       "      <td>-0.551372</td>\n",
       "      <td>2.329458</td>\n",
       "      <td>-0.696018</td>\n",
       "      <td>-0.223910</td>\n",
       "      <td>-0.671615</td>\n",
       "      <td>-1.696238</td>\n",
       "    </tr>\n",
       "    <tr>\n",
       "      <th>4</th>\n",
       "      <td>0.232396</td>\n",
       "      <td>-2.164209</td>\n",
       "      <td>-1.356687</td>\n",
       "      <td>-0.734418</td>\n",
       "      <td>3.329610</td>\n",
       "      <td>-0.223961</td>\n",
       "      <td>-0.480618</td>\n",
       "      <td>-0.733654</td>\n",
       "    </tr>\n",
       "  </tbody>\n",
       "</table>\n",
       "</div>"
      ],
      "text/plain": [
       "   danceability    energy  loudness  speechiness  acousticness  \\\n",
       "0      1.333545  0.308643  0.998472     1.106582     -0.742381   \n",
       "1      1.055165  0.173453  0.820238    -0.604488     -0.240375   \n",
       "2      0.541708  0.426935  0.102495    -0.337939      0.046163   \n",
       "3      1.642857 -1.848766 -0.551372     2.329458     -0.696018   \n",
       "4      0.232396 -2.164209 -1.356687    -0.734418      3.329610   \n",
       "\n",
       "   instrumentalness  liveness     tempo  \n",
       "0         -0.223961 -0.409616  0.963027  \n",
       "1         -0.223837 -0.873972 -0.004278  \n",
       "2         -0.223961 -0.097206 -1.163833  \n",
       "3         -0.223910 -0.671615 -1.696238  \n",
       "4         -0.223961 -0.480618 -0.733654  "
      ]
     },
     "metadata": {},
     "output_type": "display_data"
    }
   ],
   "source": [
    "### K-Means is a distance based algorithm: we need to scale / normalize!:\n",
    "\n",
    "scaler = StandardScaler()\n",
    "newscaler = scaler.fit(X)\n",
    "X_scaled = scaler.transform(X)\n",
    "X_scaled_df = pd.DataFrame(X_scaled, columns = X.columns)\n",
    "print()\n",
    "display(X_scaled_df.head())"
   ]
  },
  {
   "cell_type": "code",
   "execution_count": 13,
   "id": "b611fab6",
   "metadata": {},
   "outputs": [
    {
     "data": {
      "text/html": [
       "<div>\n",
       "<style scoped>\n",
       "    .dataframe tbody tr th:only-of-type {\n",
       "        vertical-align: middle;\n",
       "    }\n",
       "\n",
       "    .dataframe tbody tr th {\n",
       "        vertical-align: top;\n",
       "    }\n",
       "\n",
       "    .dataframe thead th {\n",
       "        text-align: right;\n",
       "    }\n",
       "</style>\n",
       "<table border=\"1\" class=\"dataframe\">\n",
       "  <thead>\n",
       "    <tr style=\"text-align: right;\">\n",
       "      <th></th>\n",
       "      <th>danceability</th>\n",
       "      <th>energy</th>\n",
       "      <th>loudness</th>\n",
       "      <th>speechiness</th>\n",
       "      <th>acousticness</th>\n",
       "      <th>instrumentalness</th>\n",
       "      <th>liveness</th>\n",
       "      <th>tempo</th>\n",
       "    </tr>\n",
       "  </thead>\n",
       "  <tbody>\n",
       "    <tr>\n",
       "      <th>count</th>\n",
       "      <td>6.569000e+03</td>\n",
       "      <td>6.569000e+03</td>\n",
       "      <td>6.569000e+03</td>\n",
       "      <td>6.569000e+03</td>\n",
       "      <td>6.569000e+03</td>\n",
       "      <td>6.569000e+03</td>\n",
       "      <td>6.569000e+03</td>\n",
       "      <td>6.569000e+03</td>\n",
       "    </tr>\n",
       "    <tr>\n",
       "      <th>mean</th>\n",
       "      <td>-1.773923e-16</td>\n",
       "      <td>-2.769051e-16</td>\n",
       "      <td>8.653283e-17</td>\n",
       "      <td>-1.730657e-17</td>\n",
       "      <td>-6.922627e-17</td>\n",
       "      <td>2.595985e-17</td>\n",
       "      <td>2.595985e-17</td>\n",
       "      <td>8.653283e-17</td>\n",
       "    </tr>\n",
       "    <tr>\n",
       "      <th>std</th>\n",
       "      <td>1.000076e+00</td>\n",
       "      <td>1.000076e+00</td>\n",
       "      <td>1.000076e+00</td>\n",
       "      <td>1.000076e+00</td>\n",
       "      <td>1.000076e+00</td>\n",
       "      <td>1.000076e+00</td>\n",
       "      <td>1.000076e+00</td>\n",
       "      <td>1.000076e+00</td>\n",
       "    </tr>\n",
       "    <tr>\n",
       "      <th>min</th>\n",
       "      <td>-3.419337e+00</td>\n",
       "      <td>-3.709320e+00</td>\n",
       "      <td>-6.396341e+00</td>\n",
       "      <td>-7.955619e-01</td>\n",
       "      <td>-7.664723e-01</td>\n",
       "      <td>-2.239606e-01</td>\n",
       "      <td>-1.142361e+00</td>\n",
       "      <td>-2.456565e+00</td>\n",
       "    </tr>\n",
       "    <tr>\n",
       "      <th>25%</th>\n",
       "      <td>-7.635874e-01</td>\n",
       "      <td>-8.123081e-01</td>\n",
       "      <td>-4.960820e-01</td>\n",
       "      <td>-6.197736e-01</td>\n",
       "      <td>-6.856840e-01</td>\n",
       "      <td>-2.239606e-01</td>\n",
       "      <td>-5.949323e-01</td>\n",
       "      <td>-8.380074e-01</td>\n",
       "    </tr>\n",
       "    <tr>\n",
       "      <th>50%</th>\n",
       "      <td>1.148576e-01</td>\n",
       "      <td>8.332642e-02</td>\n",
       "      <td>2.151360e-01</td>\n",
       "      <td>-3.685110e-01</td>\n",
       "      <td>-4.066615e-01</td>\n",
       "      <td>-2.239494e-01</td>\n",
       "      <td>-4.451172e-01</td>\n",
       "      <td>-6.514767e-02</td>\n",
       "    </tr>\n",
       "    <tr>\n",
       "      <th>75%</th>\n",
       "      <td>7.520396e-01</td>\n",
       "      <td>7.987075e-01</td>\n",
       "      <td>6.893958e-01</td>\n",
       "      <td>1.512110e-01</td>\n",
       "      <td>2.763332e-01</td>\n",
       "      <td>-2.232305e-01</td>\n",
       "      <td>3.430091e-01</td>\n",
       "      <td>6.957110e-01</td>\n",
       "    </tr>\n",
       "    <tr>\n",
       "      <th>max</th>\n",
       "      <td>2.236735e+00</td>\n",
       "      <td>1.812633e+00</td>\n",
       "      <td>2.225847e+00</td>\n",
       "      <td>8.061685e+00</td>\n",
       "      <td>3.832227e+00</td>\n",
       "      <td>6.896118e+00</td>\n",
       "      <td>5.767591e+00</td>\n",
       "      <td>2.920608e+00</td>\n",
       "    </tr>\n",
       "  </tbody>\n",
       "</table>\n",
       "</div>"
      ],
      "text/plain": [
       "       danceability        energy      loudness   speechiness  acousticness  \\\n",
       "count  6.569000e+03  6.569000e+03  6.569000e+03  6.569000e+03  6.569000e+03   \n",
       "mean  -1.773923e-16 -2.769051e-16  8.653283e-17 -1.730657e-17 -6.922627e-17   \n",
       "std    1.000076e+00  1.000076e+00  1.000076e+00  1.000076e+00  1.000076e+00   \n",
       "min   -3.419337e+00 -3.709320e+00 -6.396341e+00 -7.955619e-01 -7.664723e-01   \n",
       "25%   -7.635874e-01 -8.123081e-01 -4.960820e-01 -6.197736e-01 -6.856840e-01   \n",
       "50%    1.148576e-01  8.332642e-02  2.151360e-01 -3.685110e-01 -4.066615e-01   \n",
       "75%    7.520396e-01  7.987075e-01  6.893958e-01  1.512110e-01  2.763332e-01   \n",
       "max    2.236735e+00  1.812633e+00  2.225847e+00  8.061685e+00  3.832227e+00   \n",
       "\n",
       "       instrumentalness      liveness         tempo  \n",
       "count      6.569000e+03  6.569000e+03  6.569000e+03  \n",
       "mean       2.595985e-17  2.595985e-17  8.653283e-17  \n",
       "std        1.000076e+00  1.000076e+00  1.000076e+00  \n",
       "min       -2.239606e-01 -1.142361e+00 -2.456565e+00  \n",
       "25%       -2.239606e-01 -5.949323e-01 -8.380074e-01  \n",
       "50%       -2.239494e-01 -4.451172e-01 -6.514767e-02  \n",
       "75%       -2.232305e-01  3.430091e-01  6.957110e-01  \n",
       "max        6.896118e+00  5.767591e+00  2.920608e+00  "
      ]
     },
     "execution_count": 13,
     "metadata": {},
     "output_type": "execute_result"
    }
   ],
   "source": [
    "X_scaled_df.describe()"
   ]
  },
  {
   "cell_type": "code",
   "execution_count": null,
   "id": "0d662c64",
   "metadata": {},
   "outputs": [],
   "source": [
    "### Clustering with Kmeans"
   ]
  },
  {
   "cell_type": "code",
   "execution_count": 14,
   "id": "839e5e6e",
   "metadata": {},
   "outputs": [
    {
     "name": "stderr",
     "output_type": "stream",
     "text": [
      "C:\\Users\\calum\\anaconda3\\Lib\\site-packages\\sklearn\\cluster\\_kmeans.py:1412: FutureWarning: The default value of `n_init` will change from 10 to 'auto' in 1.4. Set the value of `n_init` explicitly to suppress the warning\n",
      "  super()._check_params_vs_input(X, default_n_init=10)\n"
     ]
    },
    {
     "data": {
      "text/html": [
       "<style>#sk-container-id-1 {color: black;}#sk-container-id-1 pre{padding: 0;}#sk-container-id-1 div.sk-toggleable {background-color: white;}#sk-container-id-1 label.sk-toggleable__label {cursor: pointer;display: block;width: 100%;margin-bottom: 0;padding: 0.3em;box-sizing: border-box;text-align: center;}#sk-container-id-1 label.sk-toggleable__label-arrow:before {content: \"▸\";float: left;margin-right: 0.25em;color: #696969;}#sk-container-id-1 label.sk-toggleable__label-arrow:hover:before {color: black;}#sk-container-id-1 div.sk-estimator:hover label.sk-toggleable__label-arrow:before {color: black;}#sk-container-id-1 div.sk-toggleable__content {max-height: 0;max-width: 0;overflow: hidden;text-align: left;background-color: #f0f8ff;}#sk-container-id-1 div.sk-toggleable__content pre {margin: 0.2em;color: black;border-radius: 0.25em;background-color: #f0f8ff;}#sk-container-id-1 input.sk-toggleable__control:checked~div.sk-toggleable__content {max-height: 200px;max-width: 100%;overflow: auto;}#sk-container-id-1 input.sk-toggleable__control:checked~label.sk-toggleable__label-arrow:before {content: \"▾\";}#sk-container-id-1 div.sk-estimator input.sk-toggleable__control:checked~label.sk-toggleable__label {background-color: #d4ebff;}#sk-container-id-1 div.sk-label input.sk-toggleable__control:checked~label.sk-toggleable__label {background-color: #d4ebff;}#sk-container-id-1 input.sk-hidden--visually {border: 0;clip: rect(1px 1px 1px 1px);clip: rect(1px, 1px, 1px, 1px);height: 1px;margin: -1px;overflow: hidden;padding: 0;position: absolute;width: 1px;}#sk-container-id-1 div.sk-estimator {font-family: monospace;background-color: #f0f8ff;border: 1px dotted black;border-radius: 0.25em;box-sizing: border-box;margin-bottom: 0.5em;}#sk-container-id-1 div.sk-estimator:hover {background-color: #d4ebff;}#sk-container-id-1 div.sk-parallel-item::after {content: \"\";width: 100%;border-bottom: 1px solid gray;flex-grow: 1;}#sk-container-id-1 div.sk-label:hover label.sk-toggleable__label {background-color: #d4ebff;}#sk-container-id-1 div.sk-serial::before {content: \"\";position: absolute;border-left: 1px solid gray;box-sizing: border-box;top: 0;bottom: 0;left: 50%;z-index: 0;}#sk-container-id-1 div.sk-serial {display: flex;flex-direction: column;align-items: center;background-color: white;padding-right: 0.2em;padding-left: 0.2em;position: relative;}#sk-container-id-1 div.sk-item {position: relative;z-index: 1;}#sk-container-id-1 div.sk-parallel {display: flex;align-items: stretch;justify-content: center;background-color: white;position: relative;}#sk-container-id-1 div.sk-item::before, #sk-container-id-1 div.sk-parallel-item::before {content: \"\";position: absolute;border-left: 1px solid gray;box-sizing: border-box;top: 0;bottom: 0;left: 50%;z-index: -1;}#sk-container-id-1 div.sk-parallel-item {display: flex;flex-direction: column;z-index: 1;position: relative;background-color: white;}#sk-container-id-1 div.sk-parallel-item:first-child::after {align-self: flex-end;width: 50%;}#sk-container-id-1 div.sk-parallel-item:last-child::after {align-self: flex-start;width: 50%;}#sk-container-id-1 div.sk-parallel-item:only-child::after {width: 0;}#sk-container-id-1 div.sk-dashed-wrapped {border: 1px dashed gray;margin: 0 0.4em 0.5em 0.4em;box-sizing: border-box;padding-bottom: 0.4em;background-color: white;}#sk-container-id-1 div.sk-label label {font-family: monospace;font-weight: bold;display: inline-block;line-height: 1.2em;}#sk-container-id-1 div.sk-label-container {text-align: center;}#sk-container-id-1 div.sk-container {/* jupyter's `normalize.less` sets `[hidden] { display: none; }` but bootstrap.min.css set `[hidden] { display: none !important; }` so we also need the `!important` here to be able to override the default hidden behavior on the sphinx rendered scikit-learn.org. See: https://github.com/scikit-learn/scikit-learn/issues/21755 */display: inline-block !important;position: relative;}#sk-container-id-1 div.sk-text-repr-fallback {display: none;}</style><div id=\"sk-container-id-1\" class=\"sk-top-container\"><div class=\"sk-text-repr-fallback\"><pre>KMeans(n_clusters=18, random_state=1234)</pre><b>In a Jupyter environment, please rerun this cell to show the HTML representation or trust the notebook. <br />On GitHub, the HTML representation is unable to render, please try loading this page with nbviewer.org.</b></div><div class=\"sk-container\" hidden><div class=\"sk-item\"><div class=\"sk-estimator sk-toggleable\"><input class=\"sk-toggleable__control sk-hidden--visually\" id=\"sk-estimator-id-1\" type=\"checkbox\" checked><label for=\"sk-estimator-id-1\" class=\"sk-toggleable__label sk-toggleable__label-arrow\">KMeans</label><div class=\"sk-toggleable__content\"><pre>KMeans(n_clusters=18, random_state=1234)</pre></div></div></div></div></div>"
      ],
      "text/plain": [
       "KMeans(n_clusters=18, random_state=1234)"
      ]
     },
     "execution_count": 14,
     "metadata": {},
     "output_type": "execute_result"
    }
   ],
   "source": [
    "kmeans = KMeans(n_clusters=18, random_state=1234)\n",
    "kmeans.fit(X_scaled_df)"
   ]
  },
  {
   "cell_type": "code",
   "execution_count": 15,
   "id": "577a3927",
   "metadata": {},
   "outputs": [
    {
     "data": {
      "text/plain": [
       "array([11,  9,  9, ..., 11,  7, 12])"
      ]
     },
     "execution_count": 15,
     "metadata": {},
     "output_type": "execute_result"
    }
   ],
   "source": [
    "labels = kmeans.labels_\n",
    "labels"
   ]
  },
  {
   "cell_type": "code",
   "execution_count": 16,
   "id": "027124b9",
   "metadata": {},
   "outputs": [
    {
     "data": {
      "text/plain": [
       "array([ 0,  1,  2,  3,  4,  5,  6,  7,  8,  9, 10, 11, 12, 13, 14, 15, 16,\n",
       "       17])"
      ]
     },
     "execution_count": 16,
     "metadata": {},
     "output_type": "execute_result"
    }
   ],
   "source": [
    "np.unique(labels)"
   ]
  },
  {
   "cell_type": "code",
   "execution_count": 17,
   "id": "7679e741",
   "metadata": {},
   "outputs": [
    {
     "data": {
      "image/png": "[encoded data removed]",
      "text/plain": [
       "<Figure size 640x480 with 1 Axes>"
      ]
     },
     "metadata": {},
     "output_type": "display_data"
    }
   ],
   "source": [
    "# assign a cluster to each example\n",
    "labels = kmeans.predict(X_scaled_df)\n",
    "# retrieve unique clusters\n",
    "clusters = np.unique(labels)\n",
    "# create scatter plot for samples from each cluster\n",
    "for cluster in clusters:\n",
    "    # get row indexes for samples with this cluster\n",
    "    row_ix = np.where(labels == cluster)\n",
    "    # create scatter of these samples\n",
    "    plt.scatter(X.to_numpy()[row_ix, 1], X.to_numpy()[row_ix, 3])\n",
    "    # show the plot\n",
    "plt.show()"
   ]
  },
  {
   "cell_type": "code",
   "execution_count": 18,
   "id": "be7480d4",
   "metadata": {},
   "outputs": [
    {
     "data": {
      "text/plain": [
       "0     391\n",
       "1     481\n",
       "2     585\n",
       "3     727\n",
       "4     197\n",
       "5     229\n",
       "6     163\n",
       "7     289\n",
       "8     234\n",
       "9     788\n",
       "10     52\n",
       "11    278\n",
       "12    512\n",
       "13    279\n",
       "14    395\n",
       "15    432\n",
       "16    136\n",
       "17    401\n",
       "Name: count, dtype: int64"
      ]
     },
     "execution_count": 18,
     "metadata": {},
     "output_type": "execute_result"
    }
   ],
   "source": [
    "clusters = kmeans.predict(X_scaled_df)\n",
    "#clusters\n",
    "pd.Series(clusters).value_counts().sort_index()"
   ]
  },
  {
   "cell_type": "code",
   "execution_count": 19,
   "id": "b1d47034",
   "metadata": {},
   "outputs": [
    {
     "data": {
      "text/plain": [
       "array([11,  9,  9, ..., 11,  7, 12])"
      ]
     },
     "execution_count": 19,
     "metadata": {},
     "output_type": "execute_result"
    }
   ],
   "source": [
    "clusters"
   ]
  },
  {
   "cell_type": "code",
   "execution_count": 36,
   "id": "cbe95431",
   "metadata": {},
   "outputs": [
    {
     "data": {
      "text/html": [
       "<div>\n",
       "<style scoped>\n",
       "    .dataframe tbody tr th:only-of-type {\n",
       "        vertical-align: middle;\n",
       "    }\n",
       "\n",
       "    .dataframe tbody tr th {\n",
       "        vertical-align: top;\n",
       "    }\n",
       "\n",
       "    .dataframe thead th {\n",
       "        text-align: right;\n",
       "    }\n",
       "</style>\n",
       "<table border=\"1\" class=\"dataframe\">\n",
       "  <thead>\n",
       "    <tr style=\"text-align: right;\">\n",
       "      <th></th>\n",
       "      <th>danceability</th>\n",
       "      <th>energy</th>\n",
       "      <th>loudness</th>\n",
       "      <th>speechiness</th>\n",
       "      <th>acousticness</th>\n",
       "      <th>instrumentalness</th>\n",
       "      <th>liveness</th>\n",
       "      <th>tempo</th>\n",
       "      <th>cluster</th>\n",
       "    </tr>\n",
       "  </thead>\n",
       "  <tbody>\n",
       "    <tr>\n",
       "      <th>0</th>\n",
       "      <td>0.834</td>\n",
       "      <td>0.730</td>\n",
       "      <td>-3.714</td>\n",
       "      <td>0.2220</td>\n",
       "      <td>0.00513</td>\n",
       "      <td>0.000000</td>\n",
       "      <td>0.1240</td>\n",
       "      <td>155.008</td>\n",
       "      <td>11</td>\n",
       "    </tr>\n",
       "    <tr>\n",
       "      <th>1</th>\n",
       "      <td>0.789</td>\n",
       "      <td>0.706</td>\n",
       "      <td>-4.233</td>\n",
       "      <td>0.0429</td>\n",
       "      <td>0.11200</td>\n",
       "      <td>0.000017</td>\n",
       "      <td>0.0586</td>\n",
       "      <td>125.911</td>\n",
       "      <td>9</td>\n",
       "    </tr>\n",
       "    <tr>\n",
       "      <th>2</th>\n",
       "      <td>0.706</td>\n",
       "      <td>0.751</td>\n",
       "      <td>-6.323</td>\n",
       "      <td>0.0708</td>\n",
       "      <td>0.17300</td>\n",
       "      <td>0.000000</td>\n",
       "      <td>0.1680</td>\n",
       "      <td>91.031</td>\n",
       "      <td>9</td>\n",
       "    </tr>\n",
       "    <tr>\n",
       "      <th>3</th>\n",
       "      <td>0.884</td>\n",
       "      <td>0.347</td>\n",
       "      <td>-8.227</td>\n",
       "      <td>0.3500</td>\n",
       "      <td>0.01500</td>\n",
       "      <td>0.000007</td>\n",
       "      <td>0.0871</td>\n",
       "      <td>75.016</td>\n",
       "      <td>11</td>\n",
       "    </tr>\n",
       "    <tr>\n",
       "      <th>4</th>\n",
       "      <td>0.656</td>\n",
       "      <td>0.291</td>\n",
       "      <td>-10.572</td>\n",
       "      <td>0.0293</td>\n",
       "      <td>0.87200</td>\n",
       "      <td>0.000000</td>\n",
       "      <td>0.1140</td>\n",
       "      <td>103.971</td>\n",
       "      <td>4</td>\n",
       "    </tr>\n",
       "    <tr>\n",
       "      <th>...</th>\n",
       "      <td>...</td>\n",
       "      <td>...</td>\n",
       "      <td>...</td>\n",
       "      <td>...</td>\n",
       "      <td>...</td>\n",
       "      <td>...</td>\n",
       "      <td>...</td>\n",
       "      <td>...</td>\n",
       "      <td>...</td>\n",
       "    </tr>\n",
       "    <tr>\n",
       "      <th>6564</th>\n",
       "      <td>0.796</td>\n",
       "      <td>0.877</td>\n",
       "      <td>-4.241</td>\n",
       "      <td>0.0657</td>\n",
       "      <td>0.12000</td>\n",
       "      <td>0.000018</td>\n",
       "      <td>0.1020</td>\n",
       "      <td>104.963</td>\n",
       "      <td>9</td>\n",
       "    </tr>\n",
       "    <tr>\n",
       "      <th>6565</th>\n",
       "      <td>0.516</td>\n",
       "      <td>0.466</td>\n",
       "      <td>-7.075</td>\n",
       "      <td>0.0299</td>\n",
       "      <td>0.38400</td>\n",
       "      <td>0.000305</td>\n",
       "      <td>0.2150</td>\n",
       "      <td>178.013</td>\n",
       "      <td>2</td>\n",
       "    </tr>\n",
       "    <tr>\n",
       "      <th>6566</th>\n",
       "      <td>0.671</td>\n",
       "      <td>0.550</td>\n",
       "      <td>-9.660</td>\n",
       "      <td>0.2840</td>\n",
       "      <td>0.01590</td>\n",
       "      <td>0.000734</td>\n",
       "      <td>0.0962</td>\n",
       "      <td>159.991</td>\n",
       "      <td>11</td>\n",
       "    </tr>\n",
       "    <tr>\n",
       "      <th>6567</th>\n",
       "      <td>0.346</td>\n",
       "      <td>0.942</td>\n",
       "      <td>-6.005</td>\n",
       "      <td>0.0722</td>\n",
       "      <td>0.00726</td>\n",
       "      <td>0.062500</td>\n",
       "      <td>0.3440</td>\n",
       "      <td>154.192</td>\n",
       "      <td>7</td>\n",
       "    </tr>\n",
       "    <tr>\n",
       "      <th>6568</th>\n",
       "      <td>0.644</td>\n",
       "      <td>0.823</td>\n",
       "      <td>-7.892</td>\n",
       "      <td>0.0679</td>\n",
       "      <td>0.23000</td>\n",
       "      <td>0.000000</td>\n",
       "      <td>0.4460</td>\n",
       "      <td>142.197</td>\n",
       "      <td>12</td>\n",
       "    </tr>\n",
       "  </tbody>\n",
       "</table>\n",
       "<p>6569 rows × 9 columns</p>\n",
       "</div>"
      ],
      "text/plain": [
       "      danceability  energy  loudness  speechiness  acousticness  \\\n",
       "0            0.834   0.730    -3.714       0.2220       0.00513   \n",
       "1            0.789   0.706    -4.233       0.0429       0.11200   \n",
       "2            0.706   0.751    -6.323       0.0708       0.17300   \n",
       "3            0.884   0.347    -8.227       0.3500       0.01500   \n",
       "4            0.656   0.291   -10.572       0.0293       0.87200   \n",
       "...            ...     ...       ...          ...           ...   \n",
       "6564         0.796   0.877    -4.241       0.0657       0.12000   \n",
       "6565         0.516   0.466    -7.075       0.0299       0.38400   \n",
       "6566         0.671   0.550    -9.660       0.2840       0.01590   \n",
       "6567         0.346   0.942    -6.005       0.0722       0.00726   \n",
       "6568         0.644   0.823    -7.892       0.0679       0.23000   \n",
       "\n",
       "      instrumentalness  liveness    tempo  cluster  \n",
       "0             0.000000    0.1240  155.008       11  \n",
       "1             0.000017    0.0586  125.911        9  \n",
       "2             0.000000    0.1680   91.031        9  \n",
       "3             0.000007    0.0871   75.016       11  \n",
       "4             0.000000    0.1140  103.971        4  \n",
       "...                ...       ...      ...      ...  \n",
       "6564          0.000018    0.1020  104.963        9  \n",
       "6565          0.000305    0.2150  178.013        2  \n",
       "6566          0.000734    0.0962  159.991       11  \n",
       "6567          0.062500    0.3440  154.192        7  \n",
       "6568          0.000000    0.4460  142.197       12  \n",
       "\n",
       "[6569 rows x 9 columns]"
      ]
     },
     "execution_count": 36,
     "metadata": {},
     "output_type": "execute_result"
    }
   ],
   "source": [
    "#X_df = pd.DataFrame(X)     #### new column in the dataframe for the cluster\n",
    "X[\"cluster\"] = clusters\n",
    "X"
   ]
  },
  {
   "cell_type": "code",
   "execution_count": 22,
   "id": "8bd25a46",
   "metadata": {},
   "outputs": [],
   "source": [
    "# saving the csv for the x cluster\n",
    "\n",
    "#X.to_csv('X_df.csv')"
   ]
  },
  {
   "cell_type": "code",
   "execution_count": 23,
   "id": "71694e0b",
   "metadata": {},
   "outputs": [
    {
     "data": {
      "text/html": [
       "<div>\n",
       "<style scoped>\n",
       "    .dataframe tbody tr th:only-of-type {\n",
       "        vertical-align: middle;\n",
       "    }\n",
       "\n",
       "    .dataframe tbody tr th {\n",
       "        vertical-align: top;\n",
       "    }\n",
       "\n",
       "    .dataframe thead th {\n",
       "        text-align: right;\n",
       "    }\n",
       "</style>\n",
       "<table border=\"1\" class=\"dataframe\">\n",
       "  <thead>\n",
       "    <tr style=\"text-align: right;\">\n",
       "      <th></th>\n",
       "      <th>danceability</th>\n",
       "      <th>energy</th>\n",
       "      <th>loudness</th>\n",
       "      <th>speechiness</th>\n",
       "      <th>acousticness</th>\n",
       "      <th>instrumentalness</th>\n",
       "      <th>liveness</th>\n",
       "      <th>tempo</th>\n",
       "      <th>cluster</th>\n",
       "    </tr>\n",
       "  </thead>\n",
       "  <tbody>\n",
       "    <tr>\n",
       "      <th>160</th>\n",
       "      <td>0.811</td>\n",
       "      <td>0.553</td>\n",
       "      <td>-6.644</td>\n",
       "      <td>0.0552</td>\n",
       "      <td>0.317</td>\n",
       "      <td>0.0</td>\n",
       "      <td>0.105</td>\n",
       "      <td>148.014</td>\n",
       "      <td>1</td>\n",
       "    </tr>\n",
       "  </tbody>\n",
       "</table>\n",
       "</div>"
      ],
      "text/plain": [
       "     danceability  energy  loudness  speechiness  acousticness  \\\n",
       "160         0.811   0.553    -6.644       0.0552         0.317   \n",
       "\n",
       "     instrumentalness  liveness    tempo  cluster  \n",
       "160               0.0     0.105  148.014        1  "
      ]
     },
     "execution_count": 23,
     "metadata": {},
     "output_type": "execute_result"
    }
   ],
   "source": [
    "X[X['cluster'] == 1].sample()"
   ]
  },
  {
   "cell_type": "code",
   "execution_count": 24,
   "id": "46ef3985",
   "metadata": {},
   "outputs": [
    {
     "data": {
      "text/plain": [
       "15773.982355566995"
      ]
     },
     "execution_count": 24,
     "metadata": {},
     "output_type": "execute_result"
    }
   ],
   "source": [
    "kmeans.inertia_ ### total error of our model"
   ]
  },
  {
   "cell_type": "code",
   "execution_count": 25,
   "id": "c746feb0",
   "metadata": {},
   "outputs": [
    {
     "name": "stdout",
     "output_type": "stream",
     "text": [
      "38520.44151225478\n"
     ]
    }
   ],
   "source": [
    "# this the parameters to pass inside the cluster\n",
    "kmeans2 = KMeans(n_clusters=3,\n",
    "                init=\"k-means++\",  # to initialize the sample \n",
    "                n_init=50,  # try with 1, 4, 8, 20, 30, 100...    default is 10 \n",
    "                max_iter=1,\n",
    "                tol=0,\n",
    "                algorithm=\"elkan\", # not relevant \n",
    "                random_state=1234)\n",
    "kmeans2.fit(X_scaled_df)\n",
    "print(kmeans2.inertia_)"
   ]
  },
  {
   "cell_type": "code",
   "execution_count": 26,
   "id": "a1e8f8c4",
   "metadata": {
    "scrolled": false
   },
   "outputs": [
    {
     "name": "stdout",
     "output_type": "stream",
     "text": [
      "Training a K-Means model with 2 clusters! \n",
      "\n"
     ]
    },
    {
     "name": "stderr",
     "output_type": "stream",
     "text": [
      "C:\\Users\\calum\\anaconda3\\Lib\\site-packages\\sklearn\\cluster\\_kmeans.py:1412: FutureWarning: The default value of `n_init` will change from 10 to 'auto' in 1.4. Set the value of `n_init` explicitly to suppress the warning\n",
      "  super()._check_params_vs_input(X, default_n_init=10)\n"
     ]
    },
    {
     "name": "stdout",
     "output_type": "stream",
     "text": [
      "Training a K-Means model with 3 clusters! \n",
      "\n"
     ]
    },
    {
     "name": "stderr",
     "output_type": "stream",
     "text": [
      "C:\\Users\\calum\\anaconda3\\Lib\\site-packages\\sklearn\\cluster\\_kmeans.py:1412: FutureWarning: The default value of `n_init` will change from 10 to 'auto' in 1.4. Set the value of `n_init` explicitly to suppress the warning\n",
      "  super()._check_params_vs_input(X, default_n_init=10)\n"
     ]
    },
    {
     "name": "stdout",
     "output_type": "stream",
     "text": [
      "Training a K-Means model with 4 clusters! \n",
      "\n"
     ]
    },
    {
     "name": "stderr",
     "output_type": "stream",
     "text": [
      "C:\\Users\\calum\\anaconda3\\Lib\\site-packages\\sklearn\\cluster\\_kmeans.py:1412: FutureWarning: The default value of `n_init` will change from 10 to 'auto' in 1.4. Set the value of `n_init` explicitly to suppress the warning\n",
      "  super()._check_params_vs_input(X, default_n_init=10)\n"
     ]
    },
    {
     "name": "stdout",
     "output_type": "stream",
     "text": [
      "Training a K-Means model with 5 clusters! \n",
      "\n"
     ]
    },
    {
     "name": "stderr",
     "output_type": "stream",
     "text": [
      "C:\\Users\\calum\\anaconda3\\Lib\\site-packages\\sklearn\\cluster\\_kmeans.py:1412: FutureWarning: The default value of `n_init` will change from 10 to 'auto' in 1.4. Set the value of `n_init` explicitly to suppress the warning\n",
      "  super()._check_params_vs_input(X, default_n_init=10)\n"
     ]
    },
    {
     "name": "stdout",
     "output_type": "stream",
     "text": [
      "Training a K-Means model with 6 clusters! \n",
      "\n"
     ]
    },
    {
     "name": "stderr",
     "output_type": "stream",
     "text": [
      "C:\\Users\\calum\\anaconda3\\Lib\\site-packages\\sklearn\\cluster\\_kmeans.py:1412: FutureWarning: The default value of `n_init` will change from 10 to 'auto' in 1.4. Set the value of `n_init` explicitly to suppress the warning\n",
      "  super()._check_params_vs_input(X, default_n_init=10)\n"
     ]
    },
    {
     "name": "stdout",
     "output_type": "stream",
     "text": [
      "Training a K-Means model with 7 clusters! \n",
      "\n"
     ]
    },
    {
     "name": "stderr",
     "output_type": "stream",
     "text": [
      "C:\\Users\\calum\\anaconda3\\Lib\\site-packages\\sklearn\\cluster\\_kmeans.py:1412: FutureWarning: The default value of `n_init` will change from 10 to 'auto' in 1.4. Set the value of `n_init` explicitly to suppress the warning\n",
      "  super()._check_params_vs_input(X, default_n_init=10)\n"
     ]
    },
    {
     "name": "stdout",
     "output_type": "stream",
     "text": [
      "Training a K-Means model with 8 clusters! \n",
      "\n"
     ]
    },
    {
     "name": "stderr",
     "output_type": "stream",
     "text": [
      "C:\\Users\\calum\\anaconda3\\Lib\\site-packages\\sklearn\\cluster\\_kmeans.py:1412: FutureWarning: The default value of `n_init` will change from 10 to 'auto' in 1.4. Set the value of `n_init` explicitly to suppress the warning\n",
      "  super()._check_params_vs_input(X, default_n_init=10)\n"
     ]
    },
    {
     "name": "stdout",
     "output_type": "stream",
     "text": [
      "Training a K-Means model with 9 clusters! \n",
      "\n"
     ]
    },
    {
     "name": "stderr",
     "output_type": "stream",
     "text": [
      "C:\\Users\\calum\\anaconda3\\Lib\\site-packages\\sklearn\\cluster\\_kmeans.py:1412: FutureWarning: The default value of `n_init` will change from 10 to 'auto' in 1.4. Set the value of `n_init` explicitly to suppress the warning\n",
      "  super()._check_params_vs_input(X, default_n_init=10)\n"
     ]
    },
    {
     "name": "stdout",
     "output_type": "stream",
     "text": [
      "Training a K-Means model with 10 clusters! \n",
      "\n"
     ]
    },
    {
     "name": "stderr",
     "output_type": "stream",
     "text": [
      "C:\\Users\\calum\\anaconda3\\Lib\\site-packages\\sklearn\\cluster\\_kmeans.py:1412: FutureWarning: The default value of `n_init` will change from 10 to 'auto' in 1.4. Set the value of `n_init` explicitly to suppress the warning\n",
      "  super()._check_params_vs_input(X, default_n_init=10)\n"
     ]
    },
    {
     "name": "stdout",
     "output_type": "stream",
     "text": [
      "Training a K-Means model with 11 clusters! \n",
      "\n"
     ]
    },
    {
     "name": "stderr",
     "output_type": "stream",
     "text": [
      "C:\\Users\\calum\\anaconda3\\Lib\\site-packages\\sklearn\\cluster\\_kmeans.py:1412: FutureWarning: The default value of `n_init` will change from 10 to 'auto' in 1.4. Set the value of `n_init` explicitly to suppress the warning\n",
      "  super()._check_params_vs_input(X, default_n_init=10)\n"
     ]
    },
    {
     "name": "stdout",
     "output_type": "stream",
     "text": [
      "Training a K-Means model with 12 clusters! \n",
      "\n"
     ]
    },
    {
     "name": "stderr",
     "output_type": "stream",
     "text": [
      "C:\\Users\\calum\\anaconda3\\Lib\\site-packages\\sklearn\\cluster\\_kmeans.py:1412: FutureWarning: The default value of `n_init` will change from 10 to 'auto' in 1.4. Set the value of `n_init` explicitly to suppress the warning\n",
      "  super()._check_params_vs_input(X, default_n_init=10)\n"
     ]
    },
    {
     "name": "stdout",
     "output_type": "stream",
     "text": [
      "Training a K-Means model with 13 clusters! \n",
      "\n"
     ]
    },
    {
     "name": "stderr",
     "output_type": "stream",
     "text": [
      "C:\\Users\\calum\\anaconda3\\Lib\\site-packages\\sklearn\\cluster\\_kmeans.py:1412: FutureWarning: The default value of `n_init` will change from 10 to 'auto' in 1.4. Set the value of `n_init` explicitly to suppress the warning\n",
      "  super()._check_params_vs_input(X, default_n_init=10)\n"
     ]
    },
    {
     "name": "stdout",
     "output_type": "stream",
     "text": [
      "Training a K-Means model with 14 clusters! \n",
      "\n"
     ]
    },
    {
     "name": "stderr",
     "output_type": "stream",
     "text": [
      "C:\\Users\\calum\\anaconda3\\Lib\\site-packages\\sklearn\\cluster\\_kmeans.py:1412: FutureWarning: The default value of `n_init` will change from 10 to 'auto' in 1.4. Set the value of `n_init` explicitly to suppress the warning\n",
      "  super()._check_params_vs_input(X, default_n_init=10)\n"
     ]
    },
    {
     "name": "stdout",
     "output_type": "stream",
     "text": [
      "Training a K-Means model with 15 clusters! \n",
      "\n"
     ]
    },
    {
     "name": "stderr",
     "output_type": "stream",
     "text": [
      "C:\\Users\\calum\\anaconda3\\Lib\\site-packages\\sklearn\\cluster\\_kmeans.py:1412: FutureWarning: The default value of `n_init` will change from 10 to 'auto' in 1.4. Set the value of `n_init` explicitly to suppress the warning\n",
      "  super()._check_params_vs_input(X, default_n_init=10)\n"
     ]
    },
    {
     "name": "stdout",
     "output_type": "stream",
     "text": [
      "Training a K-Means model with 16 clusters! \n",
      "\n"
     ]
    },
    {
     "name": "stderr",
     "output_type": "stream",
     "text": [
      "C:\\Users\\calum\\anaconda3\\Lib\\site-packages\\sklearn\\cluster\\_kmeans.py:1412: FutureWarning: The default value of `n_init` will change from 10 to 'auto' in 1.4. Set the value of `n_init` explicitly to suppress the warning\n",
      "  super()._check_params_vs_input(X, default_n_init=10)\n"
     ]
    },
    {
     "name": "stdout",
     "output_type": "stream",
     "text": [
      "Training a K-Means model with 17 clusters! \n",
      "\n"
     ]
    },
    {
     "name": "stderr",
     "output_type": "stream",
     "text": [
      "C:\\Users\\calum\\anaconda3\\Lib\\site-packages\\sklearn\\cluster\\_kmeans.py:1412: FutureWarning: The default value of `n_init` will change from 10 to 'auto' in 1.4. Set the value of `n_init` explicitly to suppress the warning\n",
      "  super()._check_params_vs_input(X, default_n_init=10)\n"
     ]
    },
    {
     "name": "stdout",
     "output_type": "stream",
     "text": [
      "Training a K-Means model with 18 clusters! \n",
      "\n"
     ]
    },
    {
     "name": "stderr",
     "output_type": "stream",
     "text": [
      "C:\\Users\\calum\\anaconda3\\Lib\\site-packages\\sklearn\\cluster\\_kmeans.py:1412: FutureWarning: The default value of `n_init` will change from 10 to 'auto' in 1.4. Set the value of `n_init` explicitly to suppress the warning\n",
      "  super()._check_params_vs_input(X, default_n_init=10)\n"
     ]
    },
    {
     "name": "stdout",
     "output_type": "stream",
     "text": [
      "Training a K-Means model with 19 clusters! \n",
      "\n"
     ]
    },
    {
     "name": "stderr",
     "output_type": "stream",
     "text": [
      "C:\\Users\\calum\\anaconda3\\Lib\\site-packages\\sklearn\\cluster\\_kmeans.py:1412: FutureWarning: The default value of `n_init` will change from 10 to 'auto' in 1.4. Set the value of `n_init` explicitly to suppress the warning\n",
      "  super()._check_params_vs_input(X, default_n_init=10)\n"
     ]
    },
    {
     "name": "stdout",
     "output_type": "stream",
     "text": [
      "Training a K-Means model with 20 clusters! \n",
      "\n"
     ]
    },
    {
     "name": "stderr",
     "output_type": "stream",
     "text": [
      "C:\\Users\\calum\\anaconda3\\Lib\\site-packages\\sklearn\\cluster\\_kmeans.py:1412: FutureWarning: The default value of `n_init` will change from 10 to 'auto' in 1.4. Set the value of `n_init` explicitly to suppress the warning\n",
      "  super()._check_params_vs_input(X, default_n_init=10)\n"
     ]
    },
    {
     "data": {
      "text/plain": [
       "Text(0.5, 1.0, 'Elbow Method showing the optimal k')"
      ]
     },
     "execution_count": 26,
     "metadata": {},
     "output_type": "execute_result"
    },
    {
     "data": {
      "image/png": "[encoded data removed]",
      "text/plain": [
       "<Figure size 1600x800 with 1 Axes>"
      ]
     },
     "metadata": {},
     "output_type": "display_data"
    }
   ],
   "source": [
    "###### chosing K\n",
    "\n",
    "K = range(2, 21) # starts in 2 cluster to 21 \n",
    "inertia = []\n",
    "\n",
    "for k in K:\n",
    "    print(\"Training a K-Means model with {} clusters! \".format(k))\n",
    "    print()\n",
    "    kmeans = KMeans(n_clusters=k,\n",
    "                    random_state=1234)\n",
    "    kmeans.fit(X_scaled_df)\n",
    "    inertia.append(kmeans.inertia_)  # append to the list of inertia\n",
    "\n",
    "import numpy as np\n",
    "import matplotlib.pyplot as plt\n",
    "%matplotlib inline\n",
    "\n",
    "plt.figure(figsize=(16,8))\n",
    "plt.plot(K, inertia, 'bx-')\n",
    "plt.xlabel('k')\n",
    "plt.ylabel('inertia')\n",
    "plt.xticks(np.arange(min(K), max(K)+1, 1.0))\n",
    "plt.title('Elbow Method showing the optimal k')"
   ]
  },
  {
   "cell_type": "code",
   "execution_count": 27,
   "id": "2b2e3343",
   "metadata": {},
   "outputs": [
    {
     "data": {
      "text/plain": [
       "Text(0.5, 1.0, 'Silhouette Method showing the optimal k')"
      ]
     },
     "execution_count": 27,
     "metadata": {},
     "output_type": "execute_result"
    },
    {
     "data": {
      "image/png": "[encoded data removed]",
      "text/plain": [
       "<Figure size 1600x800 with 1 Axes>"
      ]
     },
     "metadata": {},
     "output_type": "display_data"
    }
   ],
   "source": [
    "K = range(2, 20)\n",
    "silhouette = []\n",
    "\n",
    "for k in K:\n",
    "    kmeans = KMeans(n_clusters=k,\n",
    "                    random_state=1234, n_init='auto')\n",
    "    kmeans.fit(X_scaled_df)\n",
    "    \n",
    "    filename = \"Model/kmeans_\" + str(k) + \".pickle\"\n",
    "    #with open(filename, \"wb\") as f:\n",
    "        #pickle.dump(kmeans,f)\n",
    "    \n",
    "    silhouette.append(silhouette_score(X_scaled_df, kmeans.predict(X_scaled_df)))\n",
    "\n",
    "\n",
    "plt.figure(figsize=(16,8))\n",
    "plt.plot(K, silhouette, 'bx-')\n",
    "plt.xlabel('k')\n",
    "plt.ylabel('silhouette score')\n",
    "plt.xticks(np.arange(min(K), max(K)+1, 1.0))\n",
    "plt.title('Silhouette Method showing the optimal k')"
   ]
  },
  {
   "cell_type": "code",
   "execution_count": 28,
   "id": "56b5895c",
   "metadata": {},
   "outputs": [],
   "source": [
    "def save(kmeans, filename=\"spotify_model.pickle\"):\n",
    "    with open(filename, \"wb\") as f:\n",
    "        pickle.dump(kmeans, f)"
   ]
  },
  {
   "cell_type": "code",
   "execution_count": 29,
   "id": "6b2a78b6",
   "metadata": {},
   "outputs": [],
   "source": [
    "# Saving a k-means model\n",
    "save(kmeans, \"spotify_model.pickle\")"
   ]
  },
  {
   "cell_type": "code",
   "execution_count": 30,
   "id": "397cadfa",
   "metadata": {},
   "outputs": [],
   "source": [
    "def save(newscaler, filename=\"newscaler.pickle\"):\n",
    "    with open(filename, \"wb\") as f:\n",
    "        pickle.dump(newscaler, f)"
   ]
  },
  {
   "cell_type": "code",
   "execution_count": 31,
   "id": "77ebfdcb",
   "metadata": {},
   "outputs": [],
   "source": [
    "# Saving a newscaler\n",
    "save(scaler, \"newscaler.pickle\")"
   ]
  },
  {
   "cell_type": "code",
   "execution_count": 37,
   "id": "21d2d3cc",
   "metadata": {},
   "outputs": [],
   "source": [
    "new_scaled_df = pd.concat([X, id_df], axis=1)"
   ]
  },
  {
   "cell_type": "code",
   "execution_count": 38,
   "id": "0df1501f",
   "metadata": {},
   "outputs": [],
   "source": [
    "new_scaled_df.to_csv('new_df.csv')"
   ]
  },
  {
   "cell_type": "code",
   "execution_count": null,
   "id": "ac4897ac",
   "metadata": {},
   "outputs": [],
   "source": []
  }
 ],
 "metadata": {
  "kernelspec": {
   "display_name": "Python 3 (ipykernel)",
   "language": "python",
   "name": "python3"
  },
  "language_info": {
   "codemirror_mode": {
    "name": "ipython",
    "version": 3
   },
   "file_extension": ".py",
   "mimetype": "text/x-python",
   "name": "python",
   "nbconvert_exporter": "python",
   "pygments_lexer": "ipython3",
   "version": "3.11.5"
  }
 },
 "nbformat": 4,
 "nbformat_minor": 5
}
